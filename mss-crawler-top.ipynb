{
 "cells": [
  {
   "cell_type": "markdown",
   "metadata": {},
   "source": [
    "## 크롤링 🧐"
   ]
  },
  {
   "cell_type": "code",
   "execution_count": 1,
   "metadata": {},
   "outputs": [],
   "source": [
    "# 1. 프로젝트 생성"
   ]
  },
  {
   "cell_type": "code",
   "execution_count": 2,
   "metadata": {},
   "outputs": [],
   "source": [
    "import scrapy, requests, re\n",
    "from scrapy.http import TextResponse"
   ]
  },
  {
   "cell_type": "code",
   "execution_count": 3,
   "metadata": {
    "scrolled": true
   },
   "outputs": [
    {
     "name": "stdout",
     "output_type": "stream",
     "text": [
      "New Scrapy project 'musinsa', using template directory '/home/ubuntu/.pyenv/versions/3.6.9/envs/python3/lib/python3.6/site-packages/scrapy/templates/project', created in:\r\n",
      "    /home/ubuntu/python3/notebook/project/crawling-repo-3/musinsa\r\n",
      "\r\n",
      "You can start your first spider with:\r\n",
      "    cd musinsa\r\n",
      "    scrapy genspider example example.com\r\n"
     ]
    }
   ],
   "source": [
    "!rm -rf musinsa\n",
    "!scrapy startproject musinsa"
   ]
  },
  {
   "cell_type": "code",
   "execution_count": 4,
   "metadata": {},
   "outputs": [
    {
     "name": "stdout",
     "output_type": "stream",
     "text": [
      "README.md  mss-crawler-top.ipynb  musinsa\r\n"
     ]
    }
   ],
   "source": [
    "!ls"
   ]
  },
  {
   "cell_type": "code",
   "execution_count": 5,
   "metadata": {},
   "outputs": [
    {
     "name": "stdout",
     "output_type": "stream",
     "text": [
      "\u001b[01;34mmusinsa/\u001b[00m\r\n",
      "├── \u001b[01;34mmusinsa\u001b[00m\r\n",
      "│   ├── __init__.py\r\n",
      "│   ├── items.py\r\n",
      "│   ├── middlewares.py\r\n",
      "│   ├── pipelines.py\r\n",
      "│   ├── settings.py\r\n",
      "│   └── \u001b[01;34mspiders\u001b[00m\r\n",
      "│       └── __init__.py\r\n",
      "└── scrapy.cfg\r\n",
      "\r\n",
      "2 directories, 7 files\r\n"
     ]
    }
   ],
   "source": [
    "!tree musinsa/"
   ]
  },
  {
   "cell_type": "code",
   "execution_count": 6,
   "metadata": {},
   "outputs": [],
   "source": [
    "# 2. xpath 확인"
   ]
  },
  {
   "cell_type": "code",
   "execution_count": 7,
   "metadata": {},
   "outputs": [],
   "source": [
    "# link"
   ]
  },
  {
   "cell_type": "code",
   "execution_count": 8,
   "metadata": {},
   "outputs": [],
   "source": [
    "req = requests.get(\"https://search.musinsa.com/category/001003\")\n",
    "response = TextResponse(req.url, body=req.text, encoding=\"utf-8\")"
   ]
  },
  {
   "cell_type": "code",
   "execution_count": 9,
   "metadata": {},
   "outputs": [
    {
     "data": {
      "text/plain": [
       "(90, 'https://store.musinsa.com/app/goods/855195')"
      ]
     },
     "execution_count": 9,
     "metadata": {},
     "output_type": "execute_result"
    }
   ],
   "source": [
    "links = response.xpath('//*[@id=\"searchList\"]/li/div[contains(@class,\"li_inner\")]\\\n",
    "/div[2]/p[2]/a/@href').extract()\n",
    "len(links), links[0]"
   ]
  },
  {
   "cell_type": "code",
   "execution_count": 10,
   "metadata": {},
   "outputs": [],
   "source": [
    "# info"
   ]
  },
  {
   "cell_type": "code",
   "execution_count": 211,
   "metadata": {},
   "outputs": [],
   "source": [
    "# class MusinsaItem(scrapy.Item):\n",
    "#     title = scrapy.Field()\n",
    "#     brand = scrapy.Field()\n",
    "#     o_price = scrapy.Field()\n",
    "#     s_price = scrapy.Field()\n",
    "#     kw = scrapy.Field()\n",
    "#     img_link = scrapy.Field()\n",
    "#     link = scrapy.Field()\n",
    "#     item_id = scrapy.Field()\n",
    "#     most_age = scrapy.Field()\n",
    "#     most_sex = scrapy.Field()\n",
    "#     colors = scrapy.Field()\n",
    "#     sizes = scrapy.Field()\n",
    "#     size_details = scrapy.Field()"
   ]
  },
  {
   "cell_type": "code",
   "execution_count": 11,
   "metadata": {},
   "outputs": [
    {
     "name": "stdout",
     "output_type": "stream",
     "text": [
      "https://store.musinsa.com/app/goods/855195\n"
     ]
    }
   ],
   "source": [
    "link = links[0]\n",
    "print(link)"
   ]
  },
  {
   "cell_type": "code",
   "execution_count": 13,
   "metadata": {},
   "outputs": [],
   "source": [
    "req = requests.get(link)\n",
    "response = TextResponse(req.url, body=req.text, encoding=\"utf-8\")"
   ]
  },
  {
   "cell_type": "code",
   "execution_count": 15,
   "metadata": {},
   "outputs": [
    {
     "data": {
      "text/plain": [
       "('원버튼 더블 피케 티_블랙',\n",
       " 'BLANK ROOM',\n",
       " '43,000',\n",
       " '40,850',\n",
       " ['#긴팔', '#긴팔티', '#미니멀', '#셔츠', '#원버튼', '#카라티', '#티셔츠'],\n",
       " 'https://image.msscdn.net/images/goods_img/20180911/855195/855195_2_500.jpg')"
      ]
     },
     "execution_count": 15,
     "metadata": {},
     "output_type": "execute_result"
    }
   ],
   "source": [
    "title = response.xpath('/html/head/title/text()')[0].extract().split(' -')[0]\n",
    "title = title.split(') ')[1]\n",
    "brand = response.xpath('//*[@id=\"product_order_info\"]/div[1]/ul/li[1]/p[2]/strong/a/text()')[0].extract()\n",
    "try: # 세일가 있는 상품\n",
    "    o_price = response.xpath('//*[@id=\"goods_price\"]/del/text()')[0].extract().strip()\n",
    "except: # 판매가만 있는 상품\n",
    "    o_price = response.xpath('//*[@id=\"goods_price\"]/text()')[0].extract().strip()\n",
    "try:\n",
    "    s_price = response.xpath('//*[@id=\"sale_price\"]/text()')[0].extract().strip()\n",
    "except:\n",
    "    s_price = o_price\n",
    "try:\n",
    "    kw = response.xpath('//*[@id=\"product_order_info\"]/div[1]/ul/li[7]/p/a/text()').extract()\n",
    "except:\n",
    "    kw = ''\n",
    "img_link = \"https:\" + response.xpath('//*[@id=\"detail_bigimg\"]/div[1]/img/@src')[0].extract()\n",
    "\n",
    "\n",
    "title, brand, o_price, s_price, kw, img_link"
   ]
  },
  {
   "cell_type": "markdown",
   "metadata": {},
   "source": [
    "### selenium"
   ]
  },
  {
   "cell_type": "code",
   "execution_count": 16,
   "metadata": {},
   "outputs": [],
   "source": [
    "from selenium import webdriver"
   ]
  },
  {
   "cell_type": "code",
   "execution_count": 17,
   "metadata": {},
   "outputs": [],
   "source": [
    "options = webdriver.ChromeOptions()\n",
    "options.add_argument(\"headless\")"
   ]
  },
  {
   "cell_type": "code",
   "execution_count": 21,
   "metadata": {},
   "outputs": [],
   "source": [
    "url = \"https://store.musinsa.com/app/goods/659554\""
   ]
  },
  {
   "cell_type": "code",
   "execution_count": 22,
   "metadata": {},
   "outputs": [],
   "source": [
    "driver = webdriver.Chrome(options=options)        \n",
    "driver.get(url)"
   ]
  },
  {
   "cell_type": "code",
   "execution_count": 23,
   "metadata": {},
   "outputs": [
    {
     "data": {
      "text/plain": [
       "'19~23세'"
      ]
     },
     "execution_count": 23,
     "metadata": {},
     "output_type": "execute_result"
    }
   ],
   "source": [
    "most_age = driver.find_elements_by_xpath('//*[@id=\"graph_summary_area\"]/strong[1]')[0].text\n",
    "most_age"
   ]
  },
  {
   "cell_type": "code",
   "execution_count": 24,
   "metadata": {},
   "outputs": [
    {
     "data": {
      "text/plain": [
       "'남성'"
      ]
     },
     "execution_count": 24,
     "metadata": {},
     "output_type": "execute_result"
    }
   ],
   "source": [
    "most_sex = driver.find_elements_by_xpath('//*[@id=\"graph_summary_area\"]/span[1]')[0].text\n",
    "most_sex"
   ]
  },
  {
   "cell_type": "code",
   "execution_count": 25,
   "metadata": {
    "scrolled": true
   },
   "outputs": [
    {
     "data": {
      "text/plain": [
       "'19~23세 남성'"
      ]
     },
     "execution_count": 25,
     "metadata": {},
     "output_type": "execute_result"
    }
   ],
   "source": [
    "most = driver.find_elements_by_xpath('//*[@id=\"graph_summary_area\"]')[0].text\n",
    "most = most.split(' 이')[0]\n",
    "most.replace(\" ,\", \"\")"
   ]
  },
  {
   "cell_type": "code",
   "execution_count": 26,
   "metadata": {},
   "outputs": [
    {
     "data": {
      "text/plain": [
       "(['블랙', '그레이', '아이보리', '카키', '베이지', '와인', '오프화이트', '그레이쉬 민트', '차콜', '더스티 블루'],\n",
       " ['M', 'L', 'XL'],\n",
       " ['블랙', '그레이', '아이보리', '와인'],\n",
       " ['M', 'L', 'XL'],\n",
       " '19~23세',\n",
       " '남성')"
      ]
     },
     "execution_count": 26,
     "metadata": {},
     "output_type": "execute_result"
    }
   ],
   "source": [
    "option1_ls = driver.find_elements_by_xpath('//*[@id=\"option1\"]/option[not(@value=\"\")]')\n",
    "option1 = [option.get_attribute(\"value\") for option in option1_ls]\n",
    "driver.find_element_by_xpath('//*[@id=\"option1\"]/option[not(@value=\"\")]').click()\n",
    "\n",
    "option2_ls = driver.find_elements_by_xpath('//*[@id=\"option2\"]/option[not(@value=\"\")]')\n",
    "option2 = [option.get_attribute(\"value\") for option in option2_ls]\n",
    "# driver.find_element_by_xpath('//*[@id=\"option2\"]/option[not(@value=\"\")]').click()\n",
    "\n",
    "option3_ls = driver.find_elements_by_xpath('//*[@id=\"addopt1\"]/option[not(@value=\"\")]')\n",
    "option3 = [option.text for option in option3_ls]\n",
    "\n",
    "option4_ls = driver.find_elements_by_xpath('//*[@id=\"addopt2\"]/option[not(@value=\"\")]')\n",
    "option4 = [option.text for option in option4_ls]\n",
    "\n",
    "most_age = driver.find_elements_by_xpath('//*[@id=\"graph_summary_area\"]/strong[1]')[0].text\n",
    "most_sex = driver.find_elements_by_xpath('//*[@id=\"graph_summary_area\"]/span[1]')[0].text\n",
    "\n",
    "option1, option2, option3, option4, most_age, most_sex"
   ]
  },
  {
   "cell_type": "code",
   "execution_count": 29,
   "metadata": {},
   "outputs": [],
   "source": [
    "driver.quit()"
   ]
  },
  {
   "cell_type": "markdown",
   "metadata": {},
   "source": [
    " "
   ]
  },
  {
   "cell_type": "code",
   "execution_count": 14,
   "metadata": {},
   "outputs": [],
   "source": [
    "# 3. items.py"
   ]
  },
  {
   "cell_type": "code",
   "execution_count": 30,
   "metadata": {},
   "outputs": [
    {
     "name": "stdout",
     "output_type": "stream",
     "text": [
      "Overwriting musinsa/musinsa/items.py\n"
     ]
    }
   ],
   "source": [
    "%%writefile musinsa/musinsa/items.py\n",
    "import scrapy\n",
    "\n",
    "\n",
    "class MusinsaItem(scrapy.Item):\n",
    "    title = scrapy.Field()\n",
    "    brand = scrapy.Field()\n",
    "    o_price = scrapy.Field()\n",
    "    s_price = scrapy.Field()\n",
    "    kw = scrapy.Field()\n",
    "    img_link = scrapy.Field()\n",
    "    link = scrapy.Field()"
   ]
  },
  {
   "cell_type": "code",
   "execution_count": 16,
   "metadata": {},
   "outputs": [],
   "source": [
    "# 4. spider.py"
   ]
  },
  {
   "cell_type": "code",
   "execution_count": 31,
   "metadata": {},
   "outputs": [
    {
     "name": "stdout",
     "output_type": "stream",
     "text": [
      "Writing musinsa/musinsa/spiders/spider.py\n"
     ]
    }
   ],
   "source": [
    "%%writefile musinsa/musinsa/spiders/spider.py\n",
    "\n",
    "import scrapy\n",
    "from musinsa.items import MusinsaItem\n",
    "\n",
    "\n",
    "class Spider(scrapy.Spider):\n",
    "    name = \"Musinsa\"\n",
    "    allow_domain = [\"musinsa.com\"]\n",
    "    start_urls = [\"https://search.musinsa.com/category/001003\"]\n",
    "\n",
    "    def parse(self, response):\n",
    "        links = response.xpath('//*[@id=\"searchList\"]/li/div[contains(@class,\"li_inner\")]\\\n",
    "/div[2]/p[2]/a/@href').extract()\n",
    "        for link in links:\n",
    "            yield scrapy.Request(link, callback=self.parse_content)\n",
    "            \n",
    "    def parse_content(self, response):\n",
    "        item = MusinsaItem()\n",
    "        title = response.xpath('/html/head/title/text()')[0].extract().split(' -')[0]\n",
    "        item[\"title\"] = title.split(') ')[1]\n",
    "        item[\"brand\"] = response.xpath('//*[@id=\"product_order_info\"]/div[1]/ul/li[1]/p[2]/strong/a/text()')[0].extract()\n",
    "        try: # 세일가 있는 상품\n",
    "            item[\"o_price\"] = response.xpath('//*[@id=\"goods_price\"]/del/text()')[0].extract().strip()\n",
    "        except: # 판매가만 있는 상품\n",
    "            item[\"o_price\"] = response.xpath('//*[@id=\"goods_price\"]/text()')[0].extract().strip()\n",
    "        try:\n",
    "            item[\"s_price\"] = response.xpath('//*[@id=\"sale_price\"]/text()')[0].extract().strip()\n",
    "        except:\n",
    "            item[\"s_price\"] = item[\"o_price\"]\n",
    "        try:\n",
    "            item[\"kw\"] = response.xpath('//*[@id=\"product_order_info\"]/div[1]/ul/li[7]/p/a/text()').extract()\n",
    "        except:\n",
    "            item[\"kw\"] = ''\n",
    "        item[\"img_link\"] = \"https:\" + response.xpath('//*[@id=\"detail_bigimg\"]/div[1]/img/@src')[0].extract()\n",
    "        item[\"link\"] = response.url\n",
    "        yield item       "
   ]
  },
  {
   "cell_type": "code",
   "execution_count": 21,
   "metadata": {},
   "outputs": [],
   "source": [
    "# 5. run scrapy"
   ]
  },
  {
   "cell_type": "code",
   "execution_count": 32,
   "metadata": {},
   "outputs": [
    {
     "name": "stdout",
     "output_type": "stream",
     "text": [
      "Writing run.sh\n"
     ]
    }
   ],
   "source": [
    "%%writefile run.sh\n",
    "cd musinsa\n",
    "scrapy crawl Musinsa -o top.csv"
   ]
  },
  {
   "cell_type": "code",
   "execution_count": 24,
   "metadata": {},
   "outputs": [],
   "source": [
    "# settings.py 변경"
   ]
  },
  {
   "cell_type": "code",
   "execution_count": 33,
   "metadata": {
    "scrolled": true
   },
   "outputs": [
    {
     "name": "stdout",
     "output_type": "stream",
     "text": [
      "# Obey robots.txt rules\r\n",
      "ROBOTSTXT_OBEY = True\r\n"
     ]
    }
   ],
   "source": [
    "!head -n 20 musinsa/musinsa/settings.py | tail -n 2"
   ]
  },
  {
   "cell_type": "code",
   "execution_count": 34,
   "metadata": {},
   "outputs": [],
   "source": [
    "!sed -i 's/ROBOTSTXT_OBEY = True/ROBOTSTXT_OBEY = False/' musinsa/musinsa/settings.py"
   ]
  },
  {
   "cell_type": "code",
   "execution_count": 35,
   "metadata": {},
   "outputs": [
    {
     "name": "stdout",
     "output_type": "stream",
     "text": [
      "# Obey robots.txt rules\r\n",
      "ROBOTSTXT_OBEY = False\r\n"
     ]
    }
   ],
   "source": [
    "!head -n 20 musinsa/musinsa/settings.py | tail -n 2"
   ]
  },
  {
   "cell_type": "code",
   "execution_count": 36,
   "metadata": {},
   "outputs": [
    {
     "name": "stdout",
     "output_type": "stream",
     "text": [
      "2021-02-24 17:06:46 [scrapy.utils.log] INFO: Scrapy 2.4.1 started (bot: musinsa)\n",
      "2021-02-24 17:06:46 [scrapy.utils.log] INFO: Versions: lxml 4.6.2.0, libxml2 2.9.10, cssselect 1.1.0, parsel 1.6.0, w3lib 1.22.0, Twisted 20.3.0, Python 3.6.9 (default, Dec 15 2020, 04:39:26) - [GCC 7.5.0], pyOpenSSL 20.0.1 (OpenSSL 1.1.1i  8 Dec 2020), cryptography 3.3.1, Platform Linux-5.4.0-1037-aws-x86_64-with-debian-buster-sid\n",
      "2021-02-24 17:06:46 [scrapy.utils.log] DEBUG: Using reactor: twisted.internet.epollreactor.EPollReactor\n",
      "2021-02-24 17:06:46 [scrapy.crawler] INFO: Overridden settings:\n",
      "{'BOT_NAME': 'musinsa',\n",
      " 'NEWSPIDER_MODULE': 'musinsa.spiders',\n",
      " 'SPIDER_MODULES': ['musinsa.spiders']}\n",
      "2021-02-24 17:06:46 [scrapy.extensions.telnet] INFO: Telnet Password: 051f852a03395fa3\n",
      "2021-02-24 17:06:46 [scrapy.middleware] INFO: Enabled extensions:\n",
      "['scrapy.extensions.corestats.CoreStats',\n",
      " 'scrapy.extensions.telnet.TelnetConsole',\n",
      " 'scrapy.extensions.memusage.MemoryUsage',\n",
      " 'scrapy.extensions.feedexport.FeedExporter',\n",
      " 'scrapy.extensions.logstats.LogStats']\n",
      "2021-02-24 17:06:46 [scrapy.middleware] INFO: Enabled downloader middlewares:\n",
      "['scrapy.downloadermiddlewares.httpauth.HttpAuthMiddleware',\n",
      " 'scrapy.downloadermiddlewares.downloadtimeout.DownloadTimeoutMiddleware',\n",
      " 'scrapy.downloadermiddlewares.defaultheaders.DefaultHeadersMiddleware',\n",
      " 'scrapy.downloadermiddlewares.useragent.UserAgentMiddleware',\n",
      " 'scrapy.downloadermiddlewares.retry.RetryMiddleware',\n",
      " 'scrapy.downloadermiddlewares.redirect.MetaRefreshMiddleware',\n",
      " 'scrapy.downloadermiddlewares.httpcompression.HttpCompressionMiddleware',\n",
      " 'scrapy.downloadermiddlewares.redirect.RedirectMiddleware',\n",
      " 'scrapy.downloadermiddlewares.cookies.CookiesMiddleware',\n",
      " 'scrapy.downloadermiddlewares.httpproxy.HttpProxyMiddleware',\n",
      " 'scrapy.downloadermiddlewares.stats.DownloaderStats']\n",
      "2021-02-24 17:06:46 [scrapy.middleware] INFO: Enabled spider middlewares:\n",
      "['scrapy.spidermiddlewares.httperror.HttpErrorMiddleware',\n",
      " 'scrapy.spidermiddlewares.offsite.OffsiteMiddleware',\n",
      " 'scrapy.spidermiddlewares.referer.RefererMiddleware',\n",
      " 'scrapy.spidermiddlewares.urllength.UrlLengthMiddleware',\n",
      " 'scrapy.spidermiddlewares.depth.DepthMiddleware']\n",
      "2021-02-24 17:06:46 [scrapy.middleware] INFO: Enabled item pipelines:\n",
      "[]\n",
      "2021-02-24 17:06:46 [scrapy.core.engine] INFO: Spider opened\n",
      "2021-02-24 17:06:46 [scrapy.extensions.logstats] INFO: Crawled 0 pages (at 0 pages/min), scraped 0 items (at 0 items/min)\n",
      "2021-02-24 17:06:46 [scrapy.extensions.telnet] INFO: Telnet console listening on 127.0.0.1:6023\n",
      "2021-02-24 17:06:46 [scrapy.core.engine] DEBUG: Crawled (200) <GET https://search.musinsa.com/category/001003> (referer: None)\n",
      "2021-02-24 17:06:47 [scrapy.core.engine] DEBUG: Crawled (200) <GET https://store.musinsa.com/app/goods/1793069> (referer: https://search.musinsa.com/category/001003)\n",
      "2021-02-24 17:06:47 [scrapy.core.engine] DEBUG: Crawled (200) <GET https://store.musinsa.com/app/goods/1793083> (referer: https://search.musinsa.com/category/001003)\n",
      "2021-02-24 17:06:47 [scrapy.core.engine] DEBUG: Crawled (200) <GET https://store.musinsa.com/app/goods/1793082> (referer: https://search.musinsa.com/category/001003)\n",
      "2021-02-24 17:06:47 [scrapy.core.scraper] DEBUG: Scraped from <200 https://store.musinsa.com/app/goods/1793069>\n",
      "{'brand': 'ROMANTIC CROWN',\n",
      " 'img_link': 'https://image.msscdn.net/images/goods_img/20210215/1793069/1793069_2_500.jpg',\n",
      " 'kw': [],\n",
      " 'link': 'https://store.musinsa.com/app/goods/1793069',\n",
      " 'o_price': '68,000',\n",
      " 's_price': '61,200',\n",
      " 'title': '클래식 체크 피케 셔츠_네이비'}\n",
      "2021-02-24 17:06:47 [scrapy.core.engine] DEBUG: Crawled (200) <GET https://store.musinsa.com/app/goods/855195> (referer: https://search.musinsa.com/category/001003)\n",
      "2021-02-24 17:06:47 [scrapy.core.scraper] DEBUG: Scraped from <200 https://store.musinsa.com/app/goods/1793083>\n",
      "{'brand': 'ROMANTIC CROWN',\n",
      " 'img_link': 'https://image.msscdn.net/images/goods_img/20210215/1793083/1793083_2_500.jpg',\n",
      " 'kw': [],\n",
      " 'link': 'https://store.musinsa.com/app/goods/1793083',\n",
      " 'o_price': '82,000',\n",
      " 's_price': '73,800',\n",
      " 'title': '숄 카라 니트_오트밀'}\n",
      "2021-02-24 17:06:47 [scrapy.core.engine] DEBUG: Crawled (200) <GET https://store.musinsa.com/app/goods/1793078> (referer: https://search.musinsa.com/category/001003)\n",
      "2021-02-24 17:06:47 [scrapy.core.engine] DEBUG: Crawled (200) <GET https://store.musinsa.com/app/goods/1793070> (referer: https://search.musinsa.com/category/001003)\n",
      "2021-02-24 17:06:47 [scrapy.core.engine] DEBUG: Crawled (200) <GET https://store.musinsa.com/app/goods/1793079> (referer: https://search.musinsa.com/category/001003)\n",
      "2021-02-24 17:06:47 [scrapy.core.engine] DEBUG: Crawled (200) <GET https://store.musinsa.com/app/goods/1809949> (referer: https://search.musinsa.com/category/001003)\n",
      "2021-02-24 17:06:47 [scrapy.core.scraper] DEBUG: Scraped from <200 https://store.musinsa.com/app/goods/1793082>\n",
      "{'brand': 'ROMANTIC CROWN',\n",
      " 'img_link': 'https://image.msscdn.net/images/goods_img/20210215/1793082/1793082_2_500.jpg',\n",
      " 'kw': [],\n",
      " 'link': 'https://store.musinsa.com/app/goods/1793082',\n",
      " 'o_price': '82,000',\n",
      " 's_price': '73,800',\n",
      " 'title': '숄 카라 니트_네이비'}\n",
      "2021-02-24 17:06:47 [scrapy.core.scraper] DEBUG: Scraped from <200 https://store.musinsa.com/app/goods/855195>\n",
      "{'brand': 'BLANK ROOM',\n",
      " 'img_link': 'https://image.msscdn.net/images/goods_img/20180911/855195/855195_2_500.jpg',\n",
      " 'kw': ['#긴팔', '#긴팔티', '#미니멀', '#셔츠', '#원버튼', '#카라티', '#티셔츠'],\n",
      " 'link': 'https://store.musinsa.com/app/goods/855195',\n",
      " 'o_price': '43,000',\n",
      " 's_price': '40,850',\n",
      " 'title': '원버튼 더블 피케 티_블랙'}\n",
      "2021-02-24 17:06:47 [scrapy.core.scraper] DEBUG: Scraped from <200 https://store.musinsa.com/app/goods/1793078>\n",
      "{'brand': 'ROMANTIC CROWN',\n",
      " 'img_link': 'https://image.msscdn.net/images/goods_img/20210215/1793078/1793078_2_500.jpg',\n",
      " 'kw': [],\n",
      " 'link': 'https://store.musinsa.com/app/goods/1793078',\n",
      " 'o_price': '78,000',\n",
      " 's_price': '70,200',\n",
      " 'title': '콘트라스트 니트 폴로_그린'}\n",
      "2021-02-24 17:06:47 [scrapy.core.scraper] DEBUG: Scraped from <200 https://store.musinsa.com/app/goods/1793070>\n",
      "{'brand': 'ROMANTIC CROWN',\n",
      " 'img_link': 'https://image.msscdn.net/images/goods_img/20210215/1793070/1793070_2_500.jpg',\n",
      " 'kw': [],\n",
      " 'link': 'https://store.musinsa.com/app/goods/1793070',\n",
      " 'o_price': '68,000',\n",
      " 's_price': '61,200',\n",
      " 'title': '클래식 체크 피케 셔츠_오트밀'}\n",
      "2021-02-24 17:06:47 [scrapy.core.scraper] DEBUG: Scraped from <200 https://store.musinsa.com/app/goods/1793079>\n",
      "{'brand': 'ROMANTIC CROWN',\n",
      " 'img_link': 'https://image.msscdn.net/images/goods_img/20210215/1793079/1793079_2_500.jpg',\n",
      " 'kw': [],\n",
      " 'link': 'https://store.musinsa.com/app/goods/1793079',\n",
      " 'o_price': '78,000',\n",
      " 's_price': '70,200',\n",
      " 'title': '콘트라스트 니트 폴로_베이지'}\n",
      "2021-02-24 17:06:47 [scrapy.core.scraper] DEBUG: Scraped from <200 https://store.musinsa.com/app/goods/1809949>\n",
      "{'brand': 'SUARE',\n",
      " 'img_link': 'https://image.msscdn.net/images/goods_img/20210223/1809949/1809949_1_500.jpg',\n",
      " 'kw': [],\n",
      " 'link': 'https://store.musinsa.com/app/goods/1809949',\n",
      " 'o_price': '104,000',\n",
      " 's_price': '78,000',\n",
      " 'title': '린넨 카라 니트 세트'}\n",
      "2021-02-24 17:06:47 [scrapy.core.engine] DEBUG: Crawled (200) <GET https://store.musinsa.com/app/goods/1809020> (referer: https://search.musinsa.com/category/001003)\n",
      "2021-02-24 17:06:47 [scrapy.core.engine] DEBUG: Crawled (200) <GET https://store.musinsa.com/app/goods/1808993> (referer: https://search.musinsa.com/category/001003)\n",
      "2021-02-24 17:06:47 [scrapy.core.engine] DEBUG: Crawled (200) <GET https://store.musinsa.com/app/goods/1809011> (referer: https://search.musinsa.com/category/001003)\n",
      "2021-02-24 17:06:47 [scrapy.core.engine] DEBUG: Crawled (200) <GET https://store.musinsa.com/app/goods/1809399> (referer: https://search.musinsa.com/category/001003)\n",
      "2021-02-24 17:06:47 [scrapy.core.engine] DEBUG: Crawled (200) <GET https://store.musinsa.com/app/goods/1809007> (referer: https://search.musinsa.com/category/001003)\n",
      "2021-02-24 17:06:47 [scrapy.core.scraper] DEBUG: Scraped from <200 https://store.musinsa.com/app/goods/1809020>\n",
      "{'brand': 'RENOMA GOLF',\n",
      " 'img_link': 'https://image.msscdn.net/images/goods_img/20210223/1809020/1809020_1_500.jpg',\n",
      " 'kw': [],\n",
      " 'link': 'https://store.musinsa.com/app/goods/1809020',\n",
      " 'o_price': '169,000',\n",
      " 's_price': '169,000',\n",
      " 'title': '21SS 남성 소재 믹스 배색 카라 티셔츠 RMTYK1105-199_G'}\n"
     ]
    },
    {
     "name": "stdout",
     "output_type": "stream",
     "text": [
      "2021-02-24 17:06:47 [scrapy.core.scraper] DEBUG: Scraped from <200 https://store.musinsa.com/app/goods/1808993>\n",
      "{'brand': 'RENOMA GOLF',\n",
      " 'img_link': 'https://image.msscdn.net/images/goods_img/20210223/1808993/1808993_1_500.jpg',\n",
      " 'kw': [],\n",
      " 'link': 'https://store.musinsa.com/app/goods/1808993',\n",
      " 'o_price': '179,000',\n",
      " 's_price': '179,000',\n",
      " 'title': '21SS 여성 사선 지퍼 카라 배색 티셔츠 RWTHK5154-199_G'}\n",
      "2021-02-24 17:06:47 [scrapy.core.engine] DEBUG: Crawled (200) <GET https://store.musinsa.com/app/goods/1809009> (referer: https://search.musinsa.com/category/001003)\n",
      "2021-02-24 17:06:47 [scrapy.core.scraper] DEBUG: Scraped from <200 https://store.musinsa.com/app/goods/1809011>\n",
      "{'brand': 'RENOMA GOLF',\n",
      " 'img_link': 'https://image.msscdn.net/images/goods_img/20210223/1809011/1809011_1_500.jpg',\n",
      " 'kw': [],\n",
      " 'link': 'https://store.musinsa.com/app/goods/1809011',\n",
      " 'o_price': '149,000',\n",
      " 's_price': '149,000',\n",
      " 'title': '21SS 남성 앞판 가로 프린트 포인트 카라 티셔츠 RMTYK1153-199_G'}\n",
      "2021-02-24 17:06:47 [scrapy.core.engine] DEBUG: Crawled (200) <GET https://store.musinsa.com/app/goods/1808992> (referer: https://search.musinsa.com/category/001003)\n",
      "2021-02-24 17:06:47 [scrapy.core.engine] DEBUG: Crawled (200) <GET https://store.musinsa.com/app/goods/1809018> (referer: https://search.musinsa.com/category/001003)\n",
      "2021-02-24 17:06:47 [scrapy.core.scraper] DEBUG: Scraped from <200 https://store.musinsa.com/app/goods/1809399>\n",
      "{'brand': 'SGF67',\n",
      " 'img_link': 'https://image.msscdn.net/images/goods_img/20210223/1809399/1809399_1_500.jpg',\n",
      " 'kw': [],\n",
      " 'link': 'https://store.musinsa.com/app/goods/1809399',\n",
      " 'o_price': '49,900',\n",
      " 's_price': '49,900',\n",
      " 'title': '남성 베이직 긴팔 로고 카라 티셔츠 그레이 (SDY130236)'}\n",
      "2021-02-24 17:06:47 [scrapy.core.scraper] DEBUG: Scraped from <200 https://store.musinsa.com/app/goods/1809007>\n",
      "{'brand': 'RENOMA GOLF',\n",
      " 'img_link': 'https://image.msscdn.net/images/goods_img/20210223/1809007/1809007_1_500.jpg',\n",
      " 'kw': [],\n",
      " 'link': 'https://store.musinsa.com/app/goods/1809007',\n",
      " 'o_price': '159,000',\n",
      " 's_price': '159,000',\n",
      " 'title': '21SS 남성 앞판 패턴포인트 카라 티셔츠 RMTYK1155-199_G'}\n",
      "2021-02-24 17:06:47 [scrapy.core.scraper] DEBUG: Scraped from <200 https://store.musinsa.com/app/goods/1809009>\n",
      "{'brand': 'RENOMA GOLF',\n",
      " 'img_link': 'https://image.msscdn.net/images/goods_img/20210223/1809009/1809009_1_500.jpg',\n",
      " 'kw': [],\n",
      " 'link': 'https://store.musinsa.com/app/goods/1809009',\n",
      " 'o_price': '159,000',\n",
      " 's_price': '159,000',\n",
      " 'title': '21SS 남성 앞판 패턴포인트 카라 티셔츠 RMTYK1155-101_G'}\n",
      "2021-02-24 17:06:47 [scrapy.core.engine] DEBUG: Crawled (200) <GET https://store.musinsa.com/app/goods/1793654> (referer: https://search.musinsa.com/category/001003)\n",
      "2021-02-24 17:06:47 [scrapy.core.engine] DEBUG: Crawled (200) <GET https://store.musinsa.com/app/goods/1793655> (referer: https://search.musinsa.com/category/001003)\n",
      "2021-02-24 17:06:47 [scrapy.core.engine] DEBUG: Crawled (200) <GET https://store.musinsa.com/app/goods/1793681> (referer: https://search.musinsa.com/category/001003)\n",
      "2021-02-24 17:06:47 [scrapy.core.scraper] DEBUG: Scraped from <200 https://store.musinsa.com/app/goods/1808992>\n",
      "{'brand': 'RENOMA GOLF',\n",
      " 'img_link': 'https://image.msscdn.net/images/goods_img/20210223/1808992/1808992_1_500.jpg',\n",
      " 'kw': [],\n",
      " 'link': 'https://store.musinsa.com/app/goods/1808992',\n",
      " 'o_price': '149,000',\n",
      " 's_price': '149,000',\n",
      " 'title': '21SS 여성 S라인 절개 카라 긴팔 티셔츠 RWTYK5155-210_G'}\n",
      "2021-02-24 17:06:47 [scrapy.core.scraper] DEBUG: Scraped from <200 https://store.musinsa.com/app/goods/1809018>\n",
      "{'brand': 'RENOMA GOLF',\n",
      " 'img_link': 'https://image.msscdn.net/images/goods_img/20210223/1809018/1809018_1_500.jpg',\n",
      " 'kw': [],\n",
      " 'link': 'https://store.musinsa.com/app/goods/1809018',\n",
      " 'o_price': '139,000',\n",
      " 's_price': '139,000',\n",
      " 'title': '21SS 남성 어깨 포인트 카라 티셔츠 RMTYK1151-101_G'}\n",
      "2021-02-24 17:06:47 [scrapy.core.engine] DEBUG: Crawled (200) <GET https://store.musinsa.com/app/goods/1793666> (referer: https://search.musinsa.com/category/001003)\n",
      "2021-02-24 17:06:47 [scrapy.core.engine] DEBUG: Crawled (200) <GET https://store.musinsa.com/app/goods/1793667> (referer: https://search.musinsa.com/category/001003)\n",
      "2021-02-24 17:06:47 [scrapy.core.scraper] DEBUG: Scraped from <200 https://store.musinsa.com/app/goods/1793654>\n",
      "{'brand': 'IMPERIAL',\n",
      " 'img_link': 'https://image.msscdn.net/images/goods_img/20210215/1793654/1793654_1_500.jpg',\n",
      " 'kw': [],\n",
      " 'link': 'https://store.musinsa.com/app/goods/1793654',\n",
      " 'o_price': '39,900',\n",
      " 's_price': '39,900',\n",
      " 'title': '남성 플라워패턴 메쉬 티셔츠 핑크 (I0Y121073)'}\n",
      "2021-02-24 17:06:47 [scrapy.core.scraper] DEBUG: Scraped from <200 https://store.musinsa.com/app/goods/1793655>\n",
      "{'brand': 'IMPERIAL',\n",
      " 'img_link': 'https://image.msscdn.net/images/goods_img/20210215/1793655/1793655_1_500.jpg',\n",
      " 'kw': [],\n",
      " 'link': 'https://store.musinsa.com/app/goods/1793655',\n",
      " 'o_price': '39,900',\n",
      " 's_price': '39,900',\n",
      " 'title': '남성 플라워패턴 메쉬 티셔츠 네이비 (I0Y121049)'}\n",
      "2021-02-24 17:06:47 [scrapy.core.scraper] DEBUG: Scraped from <200 https://store.musinsa.com/app/goods/1793681>\n",
      "{'brand': 'IMPERIAL',\n",
      " 'img_link': 'https://image.msscdn.net/images/goods_img/20210215/1793681/1793681_1_500.jpg',\n",
      " 'kw': [],\n",
      " 'link': 'https://store.musinsa.com/app/goods/1793681',\n",
      " 'o_price': '39,900',\n",
      " 's_price': '39,900',\n",
      " 'title': '남성 RCP잔패턴프린트티 그레이 (ITY120234)'}\n",
      "2021-02-24 17:06:47 [scrapy.core.engine] DEBUG: Crawled (200) <GET https://store.musinsa.com/app/goods/1793719> (referer: https://search.musinsa.com/category/001003)\n",
      "2021-02-24 17:06:48 [scrapy.core.scraper] DEBUG: Scraped from <200 https://store.musinsa.com/app/goods/1793666>\n",
      "{'brand': 'IMPERIAL',\n",
      " 'img_link': 'https://image.msscdn.net/images/goods_img/20210215/1793666/1793666_1_500.jpg',\n",
      " 'kw': [],\n",
      " 'link': 'https://store.musinsa.com/app/goods/1793666',\n",
      " 'o_price': '39,900',\n",
      " 's_price': '39,900',\n",
      " 'title': '남성 냉감잔피다제에리티셔츠 다크그레이(ITY120137)'}\n",
      "2021-02-24 17:06:48 [scrapy.core.scraper] DEBUG: Scraped from <200 https://store.musinsa.com/app/goods/1793667>\n",
      "{'brand': 'IMPERIAL',\n",
      " 'img_link': 'https://image.msscdn.net/images/goods_img/20210215/1793667/1793667_1_500.jpg',\n",
      " 'kw': [],\n",
      " 'link': 'https://store.musinsa.com/app/goods/1793667',\n",
      " 'o_price': '29,900',\n",
      " 's_price': '29,900',\n",
      " 'title': '남성 여름 스트라이프 티셔츠 그레이(INY120534)'}\n",
      "2021-02-24 17:06:48 [scrapy.core.engine] DEBUG: Crawled (200) <GET https://store.musinsa.com/app/goods/1793659> (referer: https://search.musinsa.com/category/001003)\n",
      "2021-02-24 17:06:48 [scrapy.core.engine] DEBUG: Crawled (200) <GET https://store.musinsa.com/app/goods/1793671> (referer: https://search.musinsa.com/category/001003)\n",
      "2021-02-24 17:06:48 [scrapy.core.engine] DEBUG: Crawled (200) <GET https://store.musinsa.com/app/goods/1793688> (referer: https://search.musinsa.com/category/001003)\n",
      "2021-02-24 17:06:48 [scrapy.core.scraper] DEBUG: Scraped from <200 https://store.musinsa.com/app/goods/1793719>\n",
      "{'brand': 'IMPERIAL',\n",
      " 'img_link': 'https://image.msscdn.net/images/goods_img/20210215/1793719/1793719_1_500.jpg',\n",
      " 'kw': [],\n",
      " 'link': 'https://store.musinsa.com/app/goods/1793719',\n",
      " 'o_price': '29,900',\n",
      " 's_price': '29,900',\n",
      " 'title': '남성 여름기본솔리드티셔츠 (I0Y120143)'}\n",
      "2021-02-24 17:06:48 [scrapy.core.engine] DEBUG: Crawled (200) <GET https://store.musinsa.com/app/goods/1793651> (referer: https://search.musinsa.com/category/001003)\n",
      "2021-02-24 17:06:48 [scrapy.core.engine] DEBUG: Crawled (200) <GET https://store.musinsa.com/app/goods/1793665> (referer: https://search.musinsa.com/category/001003)\n",
      "2021-02-24 17:06:48 [scrapy.core.scraper] DEBUG: Scraped from <200 https://store.musinsa.com/app/goods/1793659>\n",
      "{'brand': 'IMPERIAL',\n",
      " 'img_link': 'https://image.msscdn.net/images/goods_img/20210215/1793659/1793659_1_500.jpg',\n",
      " 'kw': [],\n",
      " 'link': 'https://store.musinsa.com/app/goods/1793659',\n",
      " 'o_price': '39,900',\n",
      " 's_price': '39,900',\n",
      " 'title': '남성 메쉬소재 스포티 티셔츠 화이트 (I0Y120231)'}\n",
      "2021-02-24 17:06:48 [scrapy.core.engine] DEBUG: Crawled (200) <GET https://store.musinsa.com/app/goods/1793717> (referer: https://search.musinsa.com/category/001003)\n",
      "2021-02-24 17:06:48 [scrapy.core.scraper] DEBUG: Scraped from <200 https://store.musinsa.com/app/goods/1793671>\n",
      "{'brand': 'IMPERIAL',\n",
      " 'img_link': 'https://image.msscdn.net/images/goods_img/20210215/1793671/1793671_1_500.jpg',\n",
      " 'kw': [],\n",
      " 'link': 'https://store.musinsa.com/app/goods/1793671',\n",
      " 'o_price': '29,900',\n",
      " 's_price': '29,900',\n",
      " 'title': '남성 여름 스트라이프 티셔츠(INY120534)'}\n"
     ]
    },
    {
     "name": "stdout",
     "output_type": "stream",
     "text": [
      "2021-02-24 17:06:48 [scrapy.core.engine] DEBUG: Crawled (200) <GET https://store.musinsa.com/app/goods/1793678> (referer: https://search.musinsa.com/category/001003)\n",
      "2021-02-24 17:06:48 [scrapy.core.scraper] DEBUG: Scraped from <200 https://store.musinsa.com/app/goods/1793688>\n",
      "{'brand': 'IMPERIAL',\n",
      " 'img_link': 'https://image.msscdn.net/images/goods_img/20210215/1793688/1793688_1_500.jpg',\n",
      " 'kw': [],\n",
      " 'link': 'https://store.musinsa.com/app/goods/1793688',\n",
      " 'o_price': '39,900',\n",
      " 's_price': '39,900',\n",
      " 'title': '남성 메쉬 자가드 티셔츠 레드 (INY120176)'}\n",
      "2021-02-24 17:06:48 [scrapy.core.engine] DEBUG: Crawled (200) <GET https://store.musinsa.com/app/goods/1793657> (referer: https://search.musinsa.com/category/001003)\n",
      "2021-02-24 17:06:48 [scrapy.core.scraper] DEBUG: Scraped from <200 https://store.musinsa.com/app/goods/1793651>\n",
      "{'brand': 'IMPERIAL',\n",
      " 'img_link': 'https://image.msscdn.net/images/goods_img/20210215/1793651/1793651_1_500.jpg',\n",
      " 'kw': [],\n",
      " 'link': 'https://store.musinsa.com/app/goods/1793651',\n",
      " 'o_price': '29,900',\n",
      " 's_price': '29,900',\n",
      " 'title': '남성 폴리스판 스포티 티셔츠 화이트 (INY120231)'}\n",
      "2021-02-24 17:06:48 [scrapy.core.scraper] DEBUG: Scraped from <200 https://store.musinsa.com/app/goods/1793665>\n",
      "{'brand': 'IMPERIAL',\n",
      " 'img_link': 'https://image.msscdn.net/images/goods_img/20210215/1793665/1793665_1_500.jpg',\n",
      " 'kw': [],\n",
      " 'link': 'https://store.musinsa.com/app/goods/1793665',\n",
      " 'o_price': '39,900',\n",
      " 's_price': '39,900',\n",
      " 'title': '남성 냉감잔피다제에리티셔츠 레드(ITY120176)'}\n",
      "2021-02-24 17:06:48 [scrapy.core.scraper] DEBUG: Scraped from <200 https://store.musinsa.com/app/goods/1793717>\n",
      "{'brand': 'IMPERIAL',\n",
      " 'img_link': 'https://image.msscdn.net/images/goods_img/20210215/1793717/1793717_1_500.jpg',\n",
      " 'kw': [],\n",
      " 'link': 'https://store.musinsa.com/app/goods/1793717',\n",
      " 'o_price': '29,900',\n",
      " 's_price': '29,900',\n",
      " 'title': '남성 여름기본솔리드티셔츠 (I0Y120149)'}\n",
      "2021-02-24 17:06:48 [scrapy.core.engine] DEBUG: Crawled (200) <GET https://store.musinsa.com/app/goods/1793686> (referer: https://search.musinsa.com/category/001003)\n",
      "2021-02-24 17:06:48 [scrapy.core.scraper] DEBUG: Scraped from <200 https://store.musinsa.com/app/goods/1793678>\n",
      "{'brand': 'IMPERIAL',\n",
      " 'img_link': 'https://image.msscdn.net/images/goods_img/20210215/1793678/1793678_1_500.jpg',\n",
      " 'kw': [],\n",
      " 'link': 'https://store.musinsa.com/app/goods/1793678',\n",
      " 'o_price': '29,900',\n",
      " 's_price': '29,900',\n",
      " 'title': '남성 멀티톤잔단가라라운드 핑크 (ITY120373)'}\n",
      "2021-02-24 17:06:48 [scrapy.core.engine] DEBUG: Crawled (200) <GET https://store.musinsa.com/app/goods/1793650> (referer: https://search.musinsa.com/category/001003)\n",
      "2021-02-24 17:06:48 [scrapy.core.scraper] DEBUG: Scraped from <200 https://store.musinsa.com/app/goods/1793657>\n",
      "{'brand': 'IMPERIAL',\n",
      " 'img_link': 'https://image.msscdn.net/images/goods_img/20210215/1793657/1793657_1_500.jpg',\n",
      " 'kw': [],\n",
      " 'link': 'https://store.musinsa.com/app/goods/1793657',\n",
      " 'o_price': '39,900',\n",
      " 's_price': '39,900',\n",
      " 'title': '남성 폴리스판 프린트 티셔츠 그린 (I0Y120322)'}\n",
      "2021-02-24 17:06:48 [scrapy.core.engine] DEBUG: Crawled (200) <GET https://store.musinsa.com/app/goods/1793314> (referer: https://search.musinsa.com/category/001003)\n",
      "2021-02-24 17:06:48 [scrapy.core.scraper] DEBUG: Scraped from <200 https://store.musinsa.com/app/goods/1793686>\n",
      "{'brand': 'IMPERIAL',\n",
      " 'img_link': 'https://image.msscdn.net/images/goods_img/20210215/1793686/1793686_1_500.jpg',\n",
      " 'kw': [],\n",
      " 'link': 'https://store.musinsa.com/app/goods/1793686',\n",
      " 'o_price': '29,900',\n",
      " 's_price': '29,900',\n",
      " 'title': '남성 변형라글란소매배색티셔츠 라이트그린 (INY120221)'}\n",
      "2021-02-24 17:06:48 [scrapy.core.engine] DEBUG: Crawled (200) <GET https://store.musinsa.com/app/goods/1793285> (referer: https://search.musinsa.com/category/001003)\n",
      "2021-02-24 17:06:48 [scrapy.core.scraper] DEBUG: Scraped from <200 https://store.musinsa.com/app/goods/1793650>\n",
      "{'brand': 'IMPERIAL',\n",
      " 'img_link': 'https://image.msscdn.net/images/goods_img/20210215/1793650/1793650_1_500.jpg',\n",
      " 'kw': [],\n",
      " 'link': 'https://store.musinsa.com/app/goods/1793650',\n",
      " 'o_price': '29,900',\n",
      " 's_price': '29,900',\n",
      " 'title': '남성 폴리스판 스포티 티셔츠 화이트 (INY120431)'}\n",
      "2021-02-24 17:06:48 [scrapy.core.engine] DEBUG: Crawled (200) <GET https://store.musinsa.com/app/goods/1793292> (referer: https://search.musinsa.com/category/001003)\n",
      "2021-02-24 17:06:48 [scrapy.core.engine] DEBUG: Crawled (200) <GET https://store.musinsa.com/app/goods/1793364> (referer: https://search.musinsa.com/category/001003)\n",
      "2021-02-24 17:06:48 [scrapy.core.engine] DEBUG: Crawled (200) <GET https://store.musinsa.com/app/goods/1792555> (referer: https://search.musinsa.com/category/001003)\n",
      "2021-02-24 17:06:48 [scrapy.core.engine] DEBUG: Crawled (200) <GET https://store.musinsa.com/app/goods/1793619> (referer: https://search.musinsa.com/category/001003)\n",
      "2021-02-24 17:06:48 [scrapy.core.scraper] DEBUG: Scraped from <200 https://store.musinsa.com/app/goods/1793314>\n",
      "{'brand': 'IMPERIAL',\n",
      " 'img_link': 'https://image.msscdn.net/images/goods_img/20210215/1793314/1793314_1_500.jpg',\n",
      " 'kw': [],\n",
      " 'link': 'https://store.musinsa.com/app/goods/1793314',\n",
      " 'o_price': '29,000',\n",
      " 's_price': '29,000',\n",
      " 'title': '남성 싱글 카라티셔츠 핑크 (ISZ130173)'}\n",
      "2021-02-24 17:06:48 [scrapy.core.scraper] DEBUG: Scraped from <200 https://store.musinsa.com/app/goods/1793285>\n",
      "{'brand': 'IMPERIAL',\n",
      " 'img_link': 'https://image.msscdn.net/images/goods_img/20210215/1793285/1793285_1_500.jpg',\n",
      " 'kw': [],\n",
      " 'link': 'https://store.musinsa.com/app/goods/1793285',\n",
      " 'o_price': '29,000',\n",
      " 's_price': '29,000',\n",
      " 'title': '남성 솔리드 카라 포켓 티셔츠 딥핑크 (ISZ141574)'}\n",
      "2021-02-24 17:06:48 [scrapy.core.engine] DEBUG: Crawled (200) <GET https://store.musinsa.com/app/goods/1793289> (referer: https://search.musinsa.com/category/001003)\n",
      "2021-02-24 17:06:48 [scrapy.core.scraper] DEBUG: Scraped from <200 https://store.musinsa.com/app/goods/1793292>\n",
      "{'brand': 'IMPERIAL',\n",
      " 'img_link': 'https://image.msscdn.net/images/goods_img/20210215/1793292/1793292_1_500.jpg',\n",
      " 'kw': [],\n",
      " 'link': 'https://store.musinsa.com/app/goods/1793292',\n",
      " 'o_price': '29,000',\n",
      " 's_price': '29,000',\n",
      " 'title': '남성 기모 스트라이프 카라티셔츠 와인 (ISZ141479)'}\n",
      "2021-02-24 17:06:48 [scrapy.core.scraper] DEBUG: Scraped from <200 https://store.musinsa.com/app/goods/1793364>\n",
      "{'brand': 'IMPERIAL',\n",
      " 'img_link': 'https://image.msscdn.net/images/goods_img/20210215/1793364/1793364_1_500.jpg',\n",
      " 'kw': [],\n",
      " 'link': 'https://store.musinsa.com/app/goods/1793364',\n",
      " 'o_price': '39,000',\n",
      " 's_price': '39,000',\n",
      " 'title': '남성 요꼬프린트포인트티셔츠 (I0Z110276)'}\n",
      "2021-02-24 17:06:48 [scrapy.core.scraper] DEBUG: Scraped from <200 https://store.musinsa.com/app/goods/1792555>\n",
      "{'brand': 'BEANPOLE MEN',\n",
      " 'img_link': 'https://image.msscdn.net/images/goods_img/20210215/1792555/1792555_1_500.jpg',\n",
      " 'kw': [],\n",
      " 'link': 'https://store.musinsa.com/app/goods/1792555',\n",
      " 'o_price': '109,000',\n",
      " 's_price': '109,000',\n",
      " 'title': '[GREEN BEANPOLE] Unisex 카키 피케 라인 칼라 티셔츠 (BC1342N03H)'}\n",
      "2021-02-24 17:06:48 [scrapy.core.scraper] DEBUG: Scraped from <200 https://store.musinsa.com/app/goods/1793619>\n",
      "{'brand': 'IMPERIAL',\n",
      " 'img_link': 'https://image.msscdn.net/images/goods_img/20210215/1793619/1793619_1_500.jpg',\n",
      " 'kw': [],\n",
      " 'link': 'https://store.musinsa.com/app/goods/1793619',\n",
      " 'o_price': '49,000',\n",
      " 's_price': '49,000',\n",
      " 'title': '남성 멀티 스트라이프 카라 티셔츠 네이비 (I0Z110449)'}\n",
      "2021-02-24 17:06:48 [scrapy.core.engine] DEBUG: Crawled (200) <GET https://store.musinsa.com/app/goods/1793602> (referer: https://search.musinsa.com/category/001003)\n",
      "2021-02-24 17:06:48 [scrapy.core.engine] DEBUG: Crawled (200) <GET https://store.musinsa.com/app/goods/1792554> (referer: https://search.musinsa.com/category/001003)\n",
      "2021-02-24 17:06:48 [scrapy.core.engine] DEBUG: Crawled (200) <GET https://store.musinsa.com/app/goods/1793620> (referer: https://search.musinsa.com/category/001003)\n",
      "2021-02-24 17:06:48 [scrapy.core.engine] DEBUG: Crawled (200) <GET https://store.musinsa.com/app/goods/1793623> (referer: https://search.musinsa.com/category/001003)\n",
      "2021-02-24 17:06:48 [scrapy.core.engine] DEBUG: Crawled (200) <GET https://store.musinsa.com/app/goods/1793625> (referer: https://search.musinsa.com/category/001003)\n",
      "2021-02-24 17:06:48 [scrapy.core.scraper] DEBUG: Scraped from <200 https://store.musinsa.com/app/goods/1793289>\n",
      "{'brand': 'IMPERIAL',\n",
      " 'img_link': 'https://image.msscdn.net/images/goods_img/20210215/1793289/1793289_1_500.jpg',\n",
      " 'kw': [],\n",
      " 'link': 'https://store.musinsa.com/app/goods/1793289',\n",
      " 'o_price': '29,000',\n",
      " 's_price': '29,000',\n",
      " 'title': '남성 솔리드 카라 포켓 티셔츠 블랙 (ISZ141539)'}\n",
      "2021-02-24 17:06:48 [scrapy.core.engine] DEBUG: Crawled (200) <GET https://store.musinsa.com/app/goods/1793591> (referer: https://search.musinsa.com/category/001003)\n",
      "2021-02-24 17:06:48 [scrapy.core.engine] DEBUG: Crawled (200) <GET https://store.musinsa.com/app/goods/1809393> (referer: https://search.musinsa.com/category/001003)\n"
     ]
    },
    {
     "name": "stdout",
     "output_type": "stream",
     "text": [
      "2021-02-24 17:06:48 [scrapy.core.scraper] DEBUG: Scraped from <200 https://store.musinsa.com/app/goods/1793602>\n",
      "{'brand': 'IMPERIAL',\n",
      " 'img_link': 'https://image.msscdn.net/images/goods_img/20210215/1793602/1793602_1_500.jpg',\n",
      " 'kw': [],\n",
      " 'link': 'https://store.musinsa.com/app/goods/1793602',\n",
      " 'o_price': '59,000',\n",
      " 's_price': '59,000',\n",
      " 'title': '남성 투톤 스트라이프 카라 티셔츠 네이비 (I0Z130849)'}\n",
      "2021-02-24 17:06:49 [scrapy.core.scraper] DEBUG: Scraped from <200 https://store.musinsa.com/app/goods/1792554>\n",
      "{'brand': 'BEANPOLE MEN',\n",
      " 'img_link': 'https://image.msscdn.net/images/goods_img/20210215/1792554/1792554_1_500.jpg',\n",
      " 'kw': [],\n",
      " 'link': 'https://store.musinsa.com/app/goods/1792554',\n",
      " 'o_price': '109,000',\n",
      " 's_price': '109,000',\n",
      " 'title': '[GREEN BEANPOLE] Unisex 화이트 피케 라인 칼라 티셔츠 (BC1342N031)'}\n",
      "2021-02-24 17:06:49 [scrapy.core.engine] DEBUG: Crawled (200) <GET https://store.musinsa.com/app/goods/1796538> (referer: https://search.musinsa.com/category/001003)\n",
      "2021-02-24 17:06:49 [scrapy.core.scraper] DEBUG: Scraped from <200 https://store.musinsa.com/app/goods/1793620>\n",
      "{'brand': 'IMPERIAL',\n",
      " 'img_link': 'https://image.msscdn.net/images/goods_img/20210215/1793620/1793620_1_500.jpg',\n",
      " 'kw': [],\n",
      " 'link': 'https://store.musinsa.com/app/goods/1793620',\n",
      " 'o_price': '49,000',\n",
      " 's_price': '49,000',\n",
      " 'title': '남성 에어플레인 프린트 카라 티셔츠 머스타드 (I0Z110764)'}\n",
      "2021-02-24 17:06:49 [scrapy.core.scraper] DEBUG: Scraped from <200 https://store.musinsa.com/app/goods/1793623>\n",
      "{'brand': 'IMPERIAL',\n",
      " 'img_link': 'https://image.msscdn.net/images/goods_img/20210215/1793623/1793623_1_500.jpg',\n",
      " 'kw': [],\n",
      " 'link': 'https://store.musinsa.com/app/goods/1793623',\n",
      " 'o_price': '49,000',\n",
      " 's_price': '49,000',\n",
      " 'title': '남성 아가일 라인 체크 카라티셔츠 네이비 (INZ110149)'}\n",
      "2021-02-24 17:06:49 [scrapy.core.scraper] DEBUG: Scraped from <200 https://store.musinsa.com/app/goods/1793625>\n",
      "{'brand': 'IMPERIAL',\n",
      " 'img_link': 'https://image.msscdn.net/images/goods_img/20210215/1793625/1793625_1_500.jpg',\n",
      " 'kw': [],\n",
      " 'link': 'https://store.musinsa.com/app/goods/1793625',\n",
      " 'o_price': '49,000',\n",
      " 's_price': '49,000',\n",
      " 'title': '남성 스트라이프 카라 티셔츠 그린 (ITZ110322)'}\n",
      "2021-02-24 17:06:49 [scrapy.core.engine] DEBUG: Crawled (200) <GET https://store.musinsa.com/app/goods/1031257> (referer: https://search.musinsa.com/category/001003)\n",
      "2021-02-24 17:06:49 [scrapy.core.scraper] DEBUG: Scraped from <200 https://store.musinsa.com/app/goods/1793591>\n",
      "{'brand': 'IMPERIAL',\n",
      " 'img_link': 'https://image.msscdn.net/images/goods_img/20210215/1793591/1793591_1_500.jpg',\n",
      " 'kw': [],\n",
      " 'link': 'https://store.musinsa.com/app/goods/1793591',\n",
      " 'o_price': '39,900',\n",
      " 's_price': '39,900',\n",
      " 'title': '남성 스트라이프 스포티 티셔츠 네이비 (I0Y110349)'}\n",
      "2021-02-24 17:06:49 [scrapy.core.scraper] DEBUG: Scraped from <200 https://store.musinsa.com/app/goods/1809393>\n",
      "{'brand': 'SGF67',\n",
      " 'img_link': 'https://image.msscdn.net/images/goods_img/20210223/1809393/1809393_1_500.jpg',\n",
      " 'kw': [],\n",
      " 'link': 'https://store.musinsa.com/app/goods/1809393',\n",
      " 'o_price': '39,000',\n",
      " 's_price': '39,000',\n",
      " 'title': '남성 캐쥬얼 기본 긴팔 카라 티셔츠 핑크 (SMX130272)'}\n",
      "2021-02-24 17:06:49 [scrapy.core.scraper] DEBUG: Scraped from <200 https://store.musinsa.com/app/goods/1796538>\n",
      "{'brand': 'BEANPOLE MEN',\n",
      " 'img_link': 'https://image.msscdn.net/images/goods_img/20210216/1796538/1796538_1_500.jpg',\n",
      " 'kw': [],\n",
      " 'link': 'https://store.musinsa.com/app/goods/1796538',\n",
      " 'o_price': '139,000',\n",
      " 's_price': '139,000',\n",
      " 'title': '[890311] 로열 블루 자수 포인트 피케 티셔츠 (BC1242S86N)'}\n",
      "2021-02-24 17:06:49 [scrapy.core.engine] DEBUG: Crawled (200) <GET https://store.musinsa.com/app/goods/1796298> (referer: https://search.musinsa.com/category/001003)\n",
      "2021-02-24 17:06:49 [scrapy.core.scraper] DEBUG: Scraped from <200 https://store.musinsa.com/app/goods/1031257>\n",
      "{'brand': 'LAB12',\n",
      " 'img_link': 'https://image.msscdn.net/images/goods_img/20190430/1031257/1031257_5_500.jpg',\n",
      " 'kw': ['#반팔PK티셔츠', '#카라티셔츠', '#PK티셔츠'],\n",
      " 'link': 'https://store.musinsa.com/app/goods/1031257',\n",
      " 'o_price': '35,000',\n",
      " 's_price': '31,500',\n",
      " 'title': '21S/S 오버핏 피케티셔츠 (카키)'}\n",
      "2021-02-24 17:06:49 [scrapy.core.engine] DEBUG: Crawled (200) <GET https://store.musinsa.com/app/goods/1796392> (referer: https://search.musinsa.com/category/001003)\n",
      "2021-02-24 17:06:49 [scrapy.core.engine] DEBUG: Crawled (200) <GET https://store.musinsa.com/app/goods/1795966> (referer: https://search.musinsa.com/category/001003)\n",
      "2021-02-24 17:06:49 [scrapy.core.engine] DEBUG: Crawled (200) <GET https://store.musinsa.com/app/goods/1796535> (referer: https://search.musinsa.com/category/001003)\n",
      "2021-02-24 17:06:49 [scrapy.core.engine] DEBUG: Crawled (200) <GET https://store.musinsa.com/app/goods/1796536> (referer: https://search.musinsa.com/category/001003)\n",
      "2021-02-24 17:06:49 [scrapy.core.scraper] DEBUG: Scraped from <200 https://store.musinsa.com/app/goods/1796298>\n",
      "{'brand': 'AD HOC',\n",
      " 'img_link': 'https://image.msscdn.net/images/goods_img/20210216/1796298/1796298_1_500.jpg',\n",
      " 'kw': [],\n",
      " 'link': 'https://store.musinsa.com/app/goods/1796298',\n",
      " 'o_price': '29,000',\n",
      " 's_price': '29,000',\n",
      " 'title': '남성 메쉬본딩 오픈카라 티셔츠 (HW4ST13)'}\n",
      "2021-02-24 17:06:49 [scrapy.core.scraper] DEBUG: Scraped from <200 https://store.musinsa.com/app/goods/1796392>\n",
      "{'brand': 'FRANCO FERRARO',\n",
      " 'img_link': 'https://image.msscdn.net/images/goods_img/20210216/1796392/1796392_1_500.jpg',\n",
      " 'kw': [],\n",
      " 'link': 'https://store.musinsa.com/app/goods/1796392',\n",
      " 'o_price': '138,000',\n",
      " 's_price': '39,900',\n",
      " 'title': '남성 S/S용 폴리스판 스트라이프 티셔츠 (ASY110243)'}\n",
      "2021-02-24 17:06:49 [scrapy.core.engine] DEBUG: Crawled (200) <GET https://store.musinsa.com/app/goods/1796700> (referer: https://search.musinsa.com/category/001003)\n",
      "2021-02-24 17:06:49 [scrapy.core.scraper] DEBUG: Scraped from <200 https://store.musinsa.com/app/goods/1795966>\n",
      "{'brand': 'FRANCO FERRARO',\n",
      " 'img_link': 'https://image.msscdn.net/images/goods_img/20210216/1795966/1795966_1_500.jpg',\n",
      " 'kw': [],\n",
      " 'link': 'https://store.musinsa.com/app/goods/1795966',\n",
      " 'o_price': '39,000',\n",
      " 's_price': '39,000',\n",
      " 'title': '남성 사선패턴 티셔츠 퍼플 (A0Y137184)'}\n",
      "2021-02-24 17:06:49 [scrapy.core.scraper] DEBUG: Scraped from <200 https://store.musinsa.com/app/goods/1796535>\n",
      "{'brand': 'BEANPOLE MEN',\n",
      " 'img_link': 'https://image.msscdn.net/images/goods_img/20210216/1796535/1796535_1_500.jpg',\n",
      " 'kw': [],\n",
      " 'link': 'https://store.musinsa.com/app/goods/1796535',\n",
      " 'o_price': '139,000',\n",
      " 's_price': '139,000',\n",
      " 'title': '[890311] 오렌지 자수 포인트 피케 티셔츠 (BC1242S848)'}\n",
      "2021-02-24 17:06:49 [scrapy.core.engine] DEBUG: Crawled (200) <GET https://store.musinsa.com/app/goods/1796702> (referer: https://search.musinsa.com/category/001003)\n",
      "2021-02-24 17:06:49 [scrapy.core.scraper] DEBUG: Scraped from <200 https://store.musinsa.com/app/goods/1796536>\n",
      "{'brand': 'BEANPOLE MEN',\n",
      " 'img_link': 'https://image.msscdn.net/images/goods_img/20210216/1796536/1796536_1_500.jpg',\n",
      " 'kw': [],\n",
      " 'link': 'https://store.musinsa.com/app/goods/1796536',\n",
      " 'o_price': '139,000',\n",
      " 's_price': '139,000',\n",
      " 'title': '[890311] 그린 자수 포인트 피케 티셔츠 (BC1242S85M)'}\n",
      "2021-02-24 17:06:49 [scrapy.core.engine] DEBUG: Crawled (200) <GET https://store.musinsa.com/app/goods/1797532> (referer: https://search.musinsa.com/category/001003)\n",
      "2021-02-24 17:06:49 [scrapy.core.scraper] DEBUG: Scraped from <200 https://store.musinsa.com/app/goods/1796700>\n",
      "{'brand': 'FRANCO FERRARO',\n",
      " 'img_link': 'https://image.msscdn.net/images/goods_img/20210216/1796700/1796700_1_500.jpg',\n",
      " 'kw': [],\n",
      " 'link': 'https://store.musinsa.com/app/goods/1796700',\n",
      " 'o_price': '59,900',\n",
      " 's_price': '59,900',\n",
      " 'title': '남성 면혼방 캐주얼 티셔츠 라이트블루 (ASZ110141)'}\n",
      "2021-02-24 17:06:49 [scrapy.core.scraper] DEBUG: Scraped from <200 https://store.musinsa.com/app/goods/1796702>\n",
      "{'brand': 'FRANCO FERRARO',\n",
      " 'img_link': 'https://image.msscdn.net/images/goods_img/20210216/1796702/1796702_1_500.jpg',\n",
      " 'kw': [],\n",
      " 'link': 'https://store.musinsa.com/app/goods/1796702',\n",
      " 'o_price': '59,900',\n",
      " 's_price': '59,900',\n",
      " 'title': '남성 매쉬 티셔츠 그레이 (ASZ110235)'}\n",
      "2021-02-24 17:06:49 [scrapy.core.engine] DEBUG: Crawled (200) <GET https://store.musinsa.com/app/goods/1798793> (referer: https://search.musinsa.com/category/001003)\n",
      "2021-02-24 17:06:49 [scrapy.core.scraper] DEBUG: Scraped from <200 https://store.musinsa.com/app/goods/1797532>\n",
      "{'brand': 'BEANPOLE GOLF',\n",
      " 'img_link': 'https://image.msscdn.net/images/goods_img/20210217/1797532/1797532_1_500.jpg',\n",
      " 'kw': [],\n",
      " 'link': 'https://store.musinsa.com/app/goods/1797532',\n",
      " 'o_price': '179,000',\n",
      " 's_price': '179,000',\n",
      " 'title': '여성 아이보리 배색 칼라 반집업 티셔츠 (BJ1342A140)'}\n",
      "2021-02-24 17:06:49 [scrapy.core.engine] DEBUG: Crawled (200) <GET https://store.musinsa.com/app/goods/1797535> (referer: https://search.musinsa.com/category/001003)\n",
      "2021-02-24 17:06:49 [scrapy.core.engine] DEBUG: Crawled (200) <GET https://store.musinsa.com/app/goods/1797534> (referer: https://search.musinsa.com/category/001003)\n"
     ]
    },
    {
     "name": "stdout",
     "output_type": "stream",
     "text": [
      "2021-02-24 17:06:49 [scrapy.core.scraper] DEBUG: Scraped from <200 https://store.musinsa.com/app/goods/1798793>\n",
      "{'brand': 'LECOQ GOLF',\n",
      " 'img_link': 'https://image.msscdn.net/images/goods_img/20210217/1798793/1798793_1_500.jpg',\n",
      " 'kw': [],\n",
      " 'link': 'https://store.musinsa.com/app/goods/1798793',\n",
      " 'o_price': '168,000',\n",
      " 's_price': '168,000',\n",
      " 'title': '남성 기하학 패턴 긴팔 티셔츠'}\n",
      "2021-02-24 17:06:49 [scrapy.core.engine] DEBUG: Crawled (200) <GET https://store.musinsa.com/app/goods/1800419> (referer: https://search.musinsa.com/category/001003)\n",
      "2021-02-24 17:06:49 [scrapy.core.scraper] DEBUG: Scraped from <200 https://store.musinsa.com/app/goods/1797535>\n",
      "{'brand': 'BEANPOLE GOLF',\n",
      " 'img_link': 'https://image.msscdn.net/images/goods_img/20210217/1797535/1797535_1_500.jpg',\n",
      " 'kw': [],\n",
      " 'link': 'https://store.musinsa.com/app/goods/1797535',\n",
      " 'o_price': '179,000',\n",
      " 's_price': '179,000',\n",
      " 'title': '여성 아이보리 우븐 믹스 스트링 칼라 티셔츠 (BJ1342A160)'}\n",
      "2021-02-24 17:06:49 [scrapy.core.engine] DEBUG: Crawled (200) <GET https://store.musinsa.com/app/goods/1031256> (referer: https://search.musinsa.com/category/001003)\n",
      "2021-02-24 17:06:49 [scrapy.core.engine] DEBUG: Crawled (200) <GET https://store.musinsa.com/app/goods/1800429> (referer: https://search.musinsa.com/category/001003)\n",
      "2021-02-24 17:06:49 [scrapy.core.scraper] DEBUG: Scraped from <200 https://store.musinsa.com/app/goods/1797534>\n",
      "{'brand': 'BEANPOLE GOLF',\n",
      " 'img_link': 'https://image.msscdn.net/images/goods_img/20210217/1797534/1797534_1_500.jpg',\n",
      " 'kw': [],\n",
      " 'link': 'https://store.musinsa.com/app/goods/1797534',\n",
      " 'o_price': '179,000',\n",
      " 's_price': '179,000',\n",
      " 'title': '여성 아이보리 하트 올오버 칼라 티셔츠 (BJ1342A150)'}\n",
      "2021-02-24 17:06:49 [scrapy.core.engine] DEBUG: Crawled (200) <GET https://store.musinsa.com/app/goods/1801112> (referer: https://search.musinsa.com/category/001003)\n",
      "2021-02-24 17:06:49 [scrapy.core.scraper] DEBUG: Scraped from <200 https://store.musinsa.com/app/goods/1800419>\n",
      "{'brand': 'LECOQ GOLF',\n",
      " 'img_link': 'https://image.msscdn.net/images/goods_img/20210218/1800419/1800419_1_500.jpg',\n",
      " 'kw': [],\n",
      " 'link': 'https://store.musinsa.com/app/goods/1800419',\n",
      " 'o_price': '148,000',\n",
      " 's_price': '148,000',\n",
      " 'title': '남성 소매 배색 냉감 반팔 티셔츠'}\n",
      "2021-02-24 17:06:49 [scrapy.core.scraper] DEBUG: Scraped from <200 https://store.musinsa.com/app/goods/1031256>\n",
      "{'brand': 'LAB12',\n",
      " 'img_link': 'https://image.msscdn.net/images/goods_img/20190430/1031256/1031256_4_500.jpg',\n",
      " 'kw': ['#반팔PK티셔츠', '#카라티셔츠', '#PK티셔츠'],\n",
      " 'link': 'https://store.musinsa.com/app/goods/1031256',\n",
      " 'o_price': '35,000',\n",
      " 's_price': '31,500',\n",
      " 'title': '21S/S 오버핏 피케티셔츠 (베이지)'}\n",
      "2021-02-24 17:06:49 [scrapy.core.engine] DEBUG: Crawled (200) <GET https://store.musinsa.com/app/goods/1809389> (referer: https://search.musinsa.com/category/001003)\n",
      "2021-02-24 17:06:49 [scrapy.core.scraper] DEBUG: Scraped from <200 https://store.musinsa.com/app/goods/1800429>\n",
      "{'brand': 'LECOQ GOLF',\n",
      " 'img_link': 'https://image.msscdn.net/images/goods_img/20210218/1800429/1800429_1_500.jpg',\n",
      " 'kw': [],\n",
      " 'link': 'https://store.musinsa.com/app/goods/1800429',\n",
      " 'o_price': '138,000',\n",
      " 's_price': '138,000',\n",
      " 'title': '여성 글리터링 7부소매 티셔츠'}\n",
      "2021-02-24 17:06:50 [scrapy.core.scraper] DEBUG: Scraped from <200 https://store.musinsa.com/app/goods/1801112>\n",
      "{'brand': 'LAB12',\n",
      " 'img_link': 'https://image.msscdn.net/images/goods_img/20210218/1801112/1801112_1_500.jpg',\n",
      " 'kw': ['#폴로', '#카라티셔츠', '#오픈카라', '#폴로티', '#카라', '#출근룩', '#카라티'],\n",
      " 'link': 'https://store.musinsa.com/app/goods/1801112',\n",
      " 'o_price': '35,000',\n",
      " 's_price': '31,500',\n",
      " 'title': '21S/S 오버핏 피케티셔츠 (차콜)'}\n",
      "2021-02-24 17:06:50 [scrapy.core.scraper] DEBUG: Scraped from <200 https://store.musinsa.com/app/goods/1809389>\n",
      "{'brand': 'SGF67',\n",
      " 'img_link': 'https://image.msscdn.net/images/goods_img/20210223/1809389/1809389_1_500.jpg',\n",
      " 'kw': [],\n",
      " 'link': 'https://store.musinsa.com/app/goods/1809389',\n",
      " 'o_price': '39,000',\n",
      " 's_price': '39,000',\n",
      " 'title': '남성 바람개비 프린트 긴팔 카라 티셔츠 와인 (SSX130279)'}\n",
      "2021-02-24 17:06:50 [scrapy.core.engine] DEBUG: Crawled (200) <GET https://store.musinsa.com/app/goods/1808469> (referer: https://search.musinsa.com/category/001003)\n",
      "2021-02-24 17:06:50 [scrapy.core.engine] DEBUG: Crawled (200) <GET https://store.musinsa.com/app/goods/1801114> (referer: https://search.musinsa.com/category/001003)\n",
      "2021-02-24 17:06:50 [scrapy.core.engine] DEBUG: Crawled (200) <GET https://store.musinsa.com/app/goods/1809030> (referer: https://search.musinsa.com/category/001003)\n",
      "2021-02-24 17:06:50 [scrapy.core.engine] DEBUG: Crawled (200) <GET https://store.musinsa.com/app/goods/763199> (referer: https://search.musinsa.com/category/001003)\n",
      "2021-02-24 17:06:50 [scrapy.core.scraper] DEBUG: Scraped from <200 https://store.musinsa.com/app/goods/1808469>\n",
      "{'brand': 'TOMMY HILFIGER',\n",
      " 'img_link': 'https://image.msscdn.net/images/goods_img/20210222/1808469/1808469_1_500.jpg',\n",
      " 'kw': [],\n",
      " 'link': 'https://store.musinsa.com/app/goods/1808469',\n",
      " 'o_price': '148,000',\n",
      " 's_price': '148,000',\n",
      " 'title': '코튼 토널 블록 폴로 티셔츠 (T12B1TKT430MT10F4)'}\n",
      "2021-02-24 17:06:50 [scrapy.core.engine] DEBUG: Crawled (200) <GET https://store.musinsa.com/app/goods/1808991> (referer: https://search.musinsa.com/category/001003)\n",
      "2021-02-24 17:06:50 [scrapy.core.engine] DEBUG: Crawled (200) <GET https://store.musinsa.com/app/goods/1387953> (referer: https://search.musinsa.com/category/001003)\n",
      "2021-02-24 17:06:50 [scrapy.core.scraper] DEBUG: Scraped from <200 https://store.musinsa.com/app/goods/1801114>\n",
      "{'brand': 'LAB12',\n",
      " 'img_link': 'https://image.msscdn.net/images/goods_img/20210218/1801114/1801114_1_500.jpg',\n",
      " 'kw': ['#폴로', '#카라티셔츠', '#오픈카라', '#폴로티', '#카라', '#출근룩', '#카라티'],\n",
      " 'link': 'https://store.musinsa.com/app/goods/1801114',\n",
      " 'o_price': '35,000',\n",
      " 's_price': '31,500',\n",
      " 'title': '21S/S 오버핏 피케티셔츠 (화이트)'}\n",
      "2021-02-24 17:06:50 [scrapy.core.scraper] DEBUG: Scraped from <200 https://store.musinsa.com/app/goods/1809030>\n",
      "{'brand': 'RENOMA GOLF',\n",
      " 'img_link': 'https://image.msscdn.net/images/goods_img/20210223/1809030/1809030_1_500.jpg',\n",
      " 'kw': [],\n",
      " 'link': 'https://store.musinsa.com/app/goods/1809030',\n",
      " 'o_price': '139,000',\n",
      " 's_price': '139,000',\n",
      " 'title': '21SS 남성 전판 메쉬 소재 카라 티셔츠 RMTYK1156-101_G'}\n",
      "2021-02-24 17:06:50 [scrapy.core.scraper] DEBUG: Scraped from <200 https://store.musinsa.com/app/goods/763199>\n",
      "{'brand': 'DRAW FIT',\n",
      " 'img_link': 'https://image.msscdn.net/images/goods_img/20180424/763199/763199_6_500.jpg',\n",
      " 'kw': ['#루즈핏반팔티', '#반팔', '#반팔티', '#오버사이즈', '#오버핏반팔', '#오픈카라', '#카라티'],\n",
      " 'link': 'https://store.musinsa.com/app/goods/763199',\n",
      " 'o_price': '42,000',\n",
      " 's_price': '37,800',\n",
      " 'title': '오픈카라 티셔츠 [INDI BLUE]'}\n",
      "2021-02-24 17:06:50 [scrapy.core.engine] DEBUG: Crawled (200) <GET https://store.musinsa.com/app/goods/1801113> (referer: https://search.musinsa.com/category/001003)\n",
      "2021-02-24 17:06:50 [scrapy.core.engine] DEBUG: Crawled (200) <GET https://store.musinsa.com/app/goods/1066105> (referer: https://search.musinsa.com/category/001003)\n",
      "2021-02-24 17:06:50 [scrapy.core.engine] DEBUG: Crawled (200) <GET https://store.musinsa.com/app/goods/1809016> (referer: https://search.musinsa.com/category/001003)\n",
      "2021-02-24 17:06:50 [scrapy.core.scraper] DEBUG: Scraped from <200 https://store.musinsa.com/app/goods/1808991>\n",
      "{'brand': 'RENOMA GOLF',\n",
      " 'img_link': 'https://image.msscdn.net/images/goods_img/20210223/1808991/1808991_1_500.jpg',\n",
      " 'kw': [],\n",
      " 'link': 'https://store.musinsa.com/app/goods/1808991',\n",
      " 'o_price': '149,000',\n",
      " 's_price': '149,000',\n",
      " 'title': '21SS 여성 S라인 절개 카라 긴팔 티셔츠 RWTYK5155-199_G'}\n",
      "2021-02-24 17:06:50 [scrapy.core.scraper] DEBUG: Scraped from <200 https://store.musinsa.com/app/goods/1387953>\n",
      "{'brand': 'MUSINSA STANDARD',\n",
      " 'img_link': 'https://image.msscdn.net/images/goods_img/20200407/1387953/1387953_1_500.jpg',\n",
      " 'kw': ['#긴팔티셔츠', '#면티셔츠', '#폴로셔츠컬렉션', '#MU-T', '#긴팔티'],\n",
      " 'link': 'https://store.musinsa.com/app/goods/1387953',\n",
      " 'o_price': '29,900',\n",
      " 's_price': '29,900',\n",
      " 'title': '롱 슬리브 피케 폴로 셔츠 [블랙]'}\n",
      "2021-02-24 17:06:50 [scrapy.core.engine] DEBUG: Crawled (200) <GET https://store.musinsa.com/app/goods/1809363> (referer: https://search.musinsa.com/category/001003)\n",
      "2021-02-24 17:06:50 [scrapy.core.engine] DEBUG: Crawled (200) <GET https://store.musinsa.com/app/goods/1809029> (referer: https://search.musinsa.com/category/001003)\n",
      "2021-02-24 17:06:50 [scrapy.core.engine] DEBUG: Crawled (200) <GET https://store.musinsa.com/app/goods/1809005> (referer: https://search.musinsa.com/category/001003)\n"
     ]
    },
    {
     "name": "stdout",
     "output_type": "stream",
     "text": [
      "2021-02-24 17:06:50 [scrapy.core.scraper] DEBUG: Scraped from <200 https://store.musinsa.com/app/goods/1801113>\n",
      "{'brand': 'LAB12',\n",
      " 'img_link': 'https://image.msscdn.net/images/goods_img/20210218/1801113/1801113_1_500.jpg',\n",
      " 'kw': ['#폴로', '#카라티셔츠', '#오픈카라', '#폴로티', '#카라', '#출근룩', '#카라티'],\n",
      " 'link': 'https://store.musinsa.com/app/goods/1801113',\n",
      " 'o_price': '35,000',\n",
      " 's_price': '31,500',\n",
      " 'title': '21S/S 오버핏 피케티셔츠 (그레이블루)'}\n",
      "2021-02-24 17:06:50 [scrapy.core.scraper] DEBUG: Scraped from <200 https://store.musinsa.com/app/goods/1066105>\n",
      "{'brand': 'DRAW FIT',\n",
      " 'img_link': 'https://image.msscdn.net/images/goods_img/20190607/1066105/1066105_1_500.jpg',\n",
      " 'kw': ['#루즈핏반팔티', '#반팔', '#오버사이즈', '#오버핏반팔티', '#카라티'],\n",
      " 'link': 'https://store.musinsa.com/app/goods/1066105',\n",
      " 'o_price': '42,000',\n",
      " 's_price': '37,800',\n",
      " 'title': '오픈카라 티셔츠 [NAVY]'}\n",
      "2021-02-24 17:06:50 [scrapy.core.scraper] DEBUG: Scraped from <200 https://store.musinsa.com/app/goods/1809016>\n",
      "{'brand': 'RENOMA GOLF',\n",
      " 'img_link': 'https://image.msscdn.net/images/goods_img/20210223/1809016/1809016_1_500.jpg',\n",
      " 'kw': [],\n",
      " 'link': 'https://store.musinsa.com/app/goods/1809016',\n",
      " 'o_price': '139,000',\n",
      " 's_price': '139,000',\n",
      " 'title': '21SS 남성 어깨 포인트 카라 티셔츠 RMTYK1151-500_G'}\n",
      "2021-02-24 17:06:50 [scrapy.core.engine] DEBUG: Crawled (200) <GET https://store.musinsa.com/app/goods/1809013> (referer: https://search.musinsa.com/category/001003)\n",
      "2021-02-24 17:06:50 [scrapy.core.engine] DEBUG: Crawled (200) <GET https://store.musinsa.com/app/goods/1808994> (referer: https://search.musinsa.com/category/001003)\n",
      "2021-02-24 17:06:50 [scrapy.core.engine] DEBUG: Crawled (200) <GET https://store.musinsa.com/app/goods/1809023> (referer: https://search.musinsa.com/category/001003)\n",
      "2021-02-24 17:06:50 [scrapy.core.scraper] DEBUG: Scraped from <200 https://store.musinsa.com/app/goods/1809363>\n",
      "{'brand': 'SGF67',\n",
      " 'img_link': 'https://image.msscdn.net/images/goods_img/20210223/1809363/1809363_1_500.jpg',\n",
      " 'kw': [],\n",
      " 'link': 'https://store.musinsa.com/app/goods/1809363',\n",
      " 'o_price': '39,000',\n",
      " 's_price': '39,000',\n",
      " 'title': '남성 베이직 로고 피케셔츠 그레이 (SDZ140234)'}\n",
      "2021-02-24 17:06:50 [scrapy.core.scraper] DEBUG: Scraped from <200 https://store.musinsa.com/app/goods/1809029>\n",
      "{'brand': 'RENOMA GOLF',\n",
      " 'img_link': 'https://image.msscdn.net/images/goods_img/20210223/1809029/1809029_1_500.jpg',\n",
      " 'kw': [],\n",
      " 'link': 'https://store.musinsa.com/app/goods/1809029',\n",
      " 'o_price': '139,000',\n",
      " 's_price': '139,000',\n",
      " 'title': '21SS 남성 전판 메쉬 소재 카라 티셔츠 RMTYK1156-925_G'}\n",
      "2021-02-24 17:06:50 [scrapy.core.scraper] DEBUG: Scraped from <200 https://store.musinsa.com/app/goods/1809005>\n",
      "{'brand': 'RENOMA GOLF',\n",
      " 'img_link': 'https://image.msscdn.net/images/goods_img/20210223/1809005/1809005_1_500.jpg',\n",
      " 'kw': [],\n",
      " 'link': 'https://store.musinsa.com/app/goods/1809005',\n",
      " 'o_price': '139,000',\n",
      " 's_price': '139,000',\n",
      " 'title': '21SS 남성 어깨 포인트 카라 티셔츠 RMTYK1151-199_G'}\n",
      "2021-02-24 17:06:50 [scrapy.core.engine] DEBUG: Crawled (200) <GET https://store.musinsa.com/app/goods/1808478> (referer: https://search.musinsa.com/category/001003)\n",
      "2021-02-24 17:06:50 [scrapy.core.scraper] DEBUG: Scraped from <200 https://store.musinsa.com/app/goods/1809013>\n",
      "{'brand': 'RENOMA GOLF',\n",
      " 'img_link': 'https://image.msscdn.net/images/goods_img/20210223/1809013/1809013_1_500.jpg',\n",
      " 'kw': [],\n",
      " 'link': 'https://store.musinsa.com/app/goods/1809013',\n",
      " 'o_price': '149,000',\n",
      " 's_price': '149,000',\n",
      " 'title': '21SS 남성 앞판 가로 프린트 포인트 카라 티셔츠 RMTYK1153-101_G'}\n",
      "2021-02-24 17:06:50 [scrapy.core.scraper] DEBUG: Scraped from <200 https://store.musinsa.com/app/goods/1808994>\n",
      "{'brand': 'RENOMA GOLF',\n",
      " 'img_link': 'https://image.msscdn.net/images/goods_img/20210223/1808994/1808994_1_500.jpg',\n",
      " 'kw': [],\n",
      " 'link': 'https://store.musinsa.com/app/goods/1808994',\n",
      " 'o_price': '179,000',\n",
      " 's_price': '179,000',\n",
      " 'title': '21SS 여성 사선 지퍼 카라 배색 티셔츠 RWTHK5154-101_G'}\n",
      "2021-02-24 17:06:50 [scrapy.core.engine] DEBUG: Crawled (200) <GET https://store.musinsa.com/app/goods/1808447> (referer: https://search.musinsa.com/category/001003)\n",
      "2021-02-24 17:06:50 [scrapy.core.engine] DEBUG: Crawled (200) <GET https://store.musinsa.com/app/goods/1808475> (referer: https://search.musinsa.com/category/001003)\n",
      "2021-02-24 17:06:50 [scrapy.core.scraper] DEBUG: Scraped from <200 https://store.musinsa.com/app/goods/1809023>\n",
      "{'brand': 'RENOMA GOLF',\n",
      " 'img_link': 'https://image.msscdn.net/images/goods_img/20210223/1809023/1809023_1_500.jpg',\n",
      " 'kw': [],\n",
      " 'link': 'https://store.musinsa.com/app/goods/1809023',\n",
      " 'o_price': '169,000',\n",
      " 's_price': '169,000',\n",
      " 'title': '21SS 남성 소재 믹스 배색 카라 티셔츠 RMTYK1105-101_G'}\n",
      "2021-02-24 17:06:50 [scrapy.core.engine] DEBUG: Crawled (200) <GET https://store.musinsa.com/app/goods/1808454> (referer: https://search.musinsa.com/category/001003)\n",
      "2021-02-24 17:06:50 [scrapy.core.engine] DEBUG: Crawled (200) <GET https://store.musinsa.com/app/goods/549157> (referer: https://search.musinsa.com/category/001003)\n",
      "2021-02-24 17:06:50 [scrapy.core.scraper] DEBUG: Scraped from <200 https://store.musinsa.com/app/goods/1808478>\n",
      "{'brand': 'TOMMY HILFIGER',\n",
      " 'img_link': 'https://image.msscdn.net/images/goods_img/20210222/1808478/1808478_1_500.jpg',\n",
      " 'kw': [],\n",
      " 'link': 'https://store.musinsa.com/app/goods/1808478',\n",
      " 'o_price': '148,000',\n",
      " 's_price': '148,000',\n",
      " 'title': '코튼 블록 스트라이프 폴로 티셔츠 (T12B1TKT420MT10A4)'}\n",
      "2021-02-24 17:06:51 [scrapy.core.scraper] DEBUG: Scraped from <200 https://store.musinsa.com/app/goods/1808447>\n",
      "{'brand': 'TOMMY HILFIGER',\n",
      " 'img_link': 'https://image.msscdn.net/images/goods_img/20210222/1808447/1808447_1_500.jpg',\n",
      " 'kw': [],\n",
      " 'link': 'https://store.musinsa.com/app/goods/1808447',\n",
      " 'o_price': '138,000',\n",
      " 's_price': '138,000',\n",
      " 'title': '코튼 슬림핏 미니 플레그 폴로 탑 (T12B0TKT020MT2TY6)'}\n",
      "2021-02-24 17:06:51 [scrapy.core.scraper] DEBUG: Scraped from <200 https://store.musinsa.com/app/goods/1808475>\n",
      "{'brand': 'TOMMY HILFIGER',\n",
      " 'img_link': 'https://image.msscdn.net/images/goods_img/20210222/1808475/1808475_1_500.jpg',\n",
      " 'kw': [],\n",
      " 'link': 'https://store.musinsa.com/app/goods/1808475',\n",
      " 'o_price': '128,000',\n",
      " 's_price': '128,000',\n",
      " 'title': '코튼 레귤러 컬러블록 폴로 티셔츠 (T12B1TKT410MT10GY)'}\n",
      "2021-02-24 17:06:51 [scrapy.core.scraper] DEBUG: Scraped from <200 https://store.musinsa.com/app/goods/1808454>\n",
      "{'brand': 'TOMMY HILFIGER',\n",
      " 'img_link': 'https://image.msscdn.net/images/goods_img/20210222/1808454/1808454_1_500.jpg',\n",
      " 'kw': [],\n",
      " 'link': 'https://store.musinsa.com/app/goods/1808454',\n",
      " 'o_price': '138,000',\n",
      " 's_price': '138,000',\n",
      " 'title': '코튼 슬림핏 미니 플레그 폴로 탑 (T12B0TKT020MT2V9Y)'}\n",
      "2021-02-24 17:06:51 [scrapy.core.engine] DEBUG: Crawled (200) <GET https://store.musinsa.com/app/goods/1808439> (referer: https://search.musinsa.com/category/001003)\n",
      "2021-02-24 17:06:51 [scrapy.core.scraper] DEBUG: Scraped from <200 https://store.musinsa.com/app/goods/549157>\n",
      "{'brand': 'CARHARTT',\n",
      " 'img_link': 'https://image.msscdn.net/images/goods_img/20170502/549157/549157_1_500.jpg',\n",
      " 'kw': ['3,499건'],\n",
      " 'link': 'https://store.musinsa.com/app/goods/549157',\n",
      " 'o_price': '79,000',\n",
      " 's_price': '39,900',\n",
      " 'title': '폴로티 블랙 / K570-001'}\n",
      "2021-02-24 17:06:51 [scrapy.core.engine] DEBUG: Crawled (200) <GET https://store.musinsa.com/app/goods/1808463> (referer: https://search.musinsa.com/category/001003)\n",
      "2021-02-24 17:06:51 [scrapy.core.engine] DEBUG: Crawled (200) <GET https://store.musinsa.com/app/goods/1031258> (referer: https://search.musinsa.com/category/001003)\n",
      "2021-02-24 17:06:51 [scrapy.core.engine] DEBUG: Crawled (200) <GET https://store.musinsa.com/app/goods/1031260> (referer: https://search.musinsa.com/category/001003)\n",
      "2021-02-24 17:06:51 [scrapy.core.scraper] DEBUG: Scraped from <200 https://store.musinsa.com/app/goods/1808439>\n",
      "{'brand': 'TOMMY HILFIGER',\n",
      " 'img_link': 'https://image.msscdn.net/images/goods_img/20210222/1808439/1808439_1_500.jpg',\n",
      " 'kw': [],\n",
      " 'link': 'https://store.musinsa.com/app/goods/1808439',\n",
      " 'o_price': '128,000',\n",
      " 's_price': '128,000',\n",
      " 'title': '코튼 레귤러핏 베이직 폴로 티셔츠 (T12B0TKT01CMT2DW5)'}\n",
      "2021-02-24 17:06:51 [scrapy.core.scraper] DEBUG: Scraped from <200 https://store.musinsa.com/app/goods/1808463>\n",
      "{'brand': 'TOMMY HILFIGER',\n",
      " 'img_link': 'https://image.msscdn.net/images/goods_img/20210222/1808463/1808463_1_500.jpg',\n",
      " 'kw': [],\n",
      " 'link': 'https://store.musinsa.com/app/goods/1808463',\n",
      " 'o_price': '138,000',\n",
      " 's_price': '138,000',\n",
      " 'title': '코튼 레귤러핏 솔리드 폴로 티셔츠 (T12B0TKT020MT2C9T)'}\n"
     ]
    },
    {
     "name": "stdout",
     "output_type": "stream",
     "text": [
      "2021-02-24 17:06:51 [scrapy.core.scraper] DEBUG: Scraped from <200 https://store.musinsa.com/app/goods/1031258>\n",
      "{'brand': 'LAB12',\n",
      " 'img_link': 'https://image.msscdn.net/images/goods_img/20190430/1031258/1031258_4_500.jpg',\n",
      " 'kw': ['#반팔PK티셔츠', '#카라티셔츠', '#PK티셔츠'],\n",
      " 'link': 'https://store.musinsa.com/app/goods/1031258',\n",
      " 'o_price': '35,000',\n",
      " 's_price': '31,500',\n",
      " 'title': '21S/S 오버핏 피케티셔츠 (브라운)'}\n",
      "2021-02-24 17:06:51 [scrapy.core.engine] DEBUG: Crawled (200) <GET https://store.musinsa.com/app/goods/1020313> (referer: https://search.musinsa.com/category/001003)\n",
      "2021-02-24 17:06:51 [scrapy.core.scraper] DEBUG: Scraped from <200 https://store.musinsa.com/app/goods/1031260>\n",
      "{'brand': 'LAB12',\n",
      " 'img_link': 'https://image.msscdn.net/images/goods_img/20190430/1031260/1031260_4_500.jpg',\n",
      " 'kw': ['#반팔PK티셔츠', '#카라티셔츠', '#PK티셔츠'],\n",
      " 'link': 'https://store.musinsa.com/app/goods/1031260',\n",
      " 'o_price': '35,000',\n",
      " 's_price': '31,500',\n",
      " 'title': '21S/S 오버핏 피케티셔츠 (블랙)'}\n",
      "2021-02-24 17:06:51 [scrapy.core.engine] DEBUG: Crawled (200) <GET https://store.musinsa.com/app/goods/763197> (referer: https://search.musinsa.com/category/001003)\n",
      "2021-02-24 17:06:51 [scrapy.core.scraper] DEBUG: Scraped from <200 https://store.musinsa.com/app/goods/1020313>\n",
      "{'brand': 'DRAW FIT',\n",
      " 'img_link': 'https://image.msscdn.net/images/goods_img/20190419/1020313/1020313_1_500.jpg',\n",
      " 'kw': ['#루즈핏반팔티', '#반팔', '#오버사이즈', '#오버핏반팔티', '#카라티'],\n",
      " 'link': 'https://store.musinsa.com/app/goods/1020313',\n",
      " 'o_price': '42,000',\n",
      " 's_price': '37,800',\n",
      " 'title': '오픈카라 티셔츠 [BEIGE]'}\n",
      "2021-02-24 17:06:51 [scrapy.core.scraper] DEBUG: Scraped from <200 https://store.musinsa.com/app/goods/763197>\n",
      "{'brand': 'DRAW FIT',\n",
      " 'img_link': 'https://image.msscdn.net/images/goods_img/20180424/763197/763197_3_500.jpg',\n",
      " 'kw': ['#루즈핏반팔티', '#반팔', '#반팔티', '#오버사이즈', '#오버핏반팔', '#오픈카라', '#카라티'],\n",
      " 'link': 'https://store.musinsa.com/app/goods/763197',\n",
      " 'o_price': '42,000',\n",
      " 's_price': '37,800',\n",
      " 'title': '오픈카라 티셔츠 [BLACK]'}\n",
      "2021-02-24 17:06:51 [scrapy.core.engine] INFO: Closing spider (finished)\n",
      "2021-02-24 17:06:51 [scrapy.extensions.feedexport] INFO: Stored csv feed (90 items) in: top.csv\n",
      "2021-02-24 17:06:51 [scrapy.statscollectors] INFO: Dumping Scrapy stats:\n",
      "{'downloader/request_bytes': 37157,\n",
      " 'downloader/request_count': 91,\n",
      " 'downloader/request_method_count/GET': 91,\n",
      " 'downloader/response_bytes': 3266159,\n",
      " 'downloader/response_count': 91,\n",
      " 'downloader/response_status_count/200': 91,\n",
      " 'elapsed_time_seconds': 5.085521,\n",
      " 'finish_reason': 'finished',\n",
      " 'finish_time': datetime.datetime(2021, 2, 24, 8, 6, 51, 565990),\n",
      " 'item_scraped_count': 90,\n",
      " 'log_count/DEBUG': 181,\n",
      " 'log_count/INFO': 11,\n",
      " 'memusage/max': 54521856,\n",
      " 'memusage/startup': 54521856,\n",
      " 'request_depth_max': 1,\n",
      " 'response_received_count': 91,\n",
      " 'scheduler/dequeued': 91,\n",
      " 'scheduler/dequeued/memory': 91,\n",
      " 'scheduler/enqueued': 91,\n",
      " 'scheduler/enqueued/memory': 91,\n",
      " 'start_time': datetime.datetime(2021, 2, 24, 8, 6, 46, 480469)}\n",
      "2021-02-24 17:06:51 [scrapy.core.engine] INFO: Spider closed (finished)\n"
     ]
    }
   ],
   "source": [
    "!/bin/bash run.sh"
   ]
  },
  {
   "cell_type": "code",
   "execution_count": 37,
   "metadata": {},
   "outputs": [],
   "source": [
    "import pandas as pd"
   ]
  },
  {
   "cell_type": "code",
   "execution_count": 40,
   "metadata": {},
   "outputs": [
    {
     "data": {
      "text/html": [
       "<div>\n",
       "<style scoped>\n",
       "    .dataframe tbody tr th:only-of-type {\n",
       "        vertical-align: middle;\n",
       "    }\n",
       "\n",
       "    .dataframe tbody tr th {\n",
       "        vertical-align: top;\n",
       "    }\n",
       "\n",
       "    .dataframe thead th {\n",
       "        text-align: right;\n",
       "    }\n",
       "</style>\n",
       "<table border=\"1\" class=\"dataframe\">\n",
       "  <thead>\n",
       "    <tr style=\"text-align: right;\">\n",
       "      <th></th>\n",
       "      <th>brand</th>\n",
       "      <th>img_link</th>\n",
       "      <th>kw</th>\n",
       "      <th>link</th>\n",
       "      <th>o_price</th>\n",
       "      <th>s_price</th>\n",
       "      <th>title</th>\n",
       "    </tr>\n",
       "  </thead>\n",
       "  <tbody>\n",
       "    <tr>\n",
       "      <th>0</th>\n",
       "      <td>ROMANTIC CROWN</td>\n",
       "      <td>https://image.msscdn.net/images/goods_img/2021...</td>\n",
       "      <td>NaN</td>\n",
       "      <td>https://store.musinsa.com/app/goods/1793069</td>\n",
       "      <td>68,000</td>\n",
       "      <td>61,200</td>\n",
       "      <td>클래식 체크 피케 셔츠_네이비</td>\n",
       "    </tr>\n",
       "    <tr>\n",
       "      <th>1</th>\n",
       "      <td>ROMANTIC CROWN</td>\n",
       "      <td>https://image.msscdn.net/images/goods_img/2021...</td>\n",
       "      <td>NaN</td>\n",
       "      <td>https://store.musinsa.com/app/goods/1793083</td>\n",
       "      <td>82,000</td>\n",
       "      <td>73,800</td>\n",
       "      <td>숄 카라 니트_오트밀</td>\n",
       "    </tr>\n",
       "    <tr>\n",
       "      <th>2</th>\n",
       "      <td>ROMANTIC CROWN</td>\n",
       "      <td>https://image.msscdn.net/images/goods_img/2021...</td>\n",
       "      <td>NaN</td>\n",
       "      <td>https://store.musinsa.com/app/goods/1793082</td>\n",
       "      <td>82,000</td>\n",
       "      <td>73,800</td>\n",
       "      <td>숄 카라 니트_네이비</td>\n",
       "    </tr>\n",
       "    <tr>\n",
       "      <th>3</th>\n",
       "      <td>BLANK ROOM</td>\n",
       "      <td>https://image.msscdn.net/images/goods_img/2018...</td>\n",
       "      <td>#긴팔,#긴팔티,#미니멀,#셔츠,#원버튼,#카라티,#티셔츠</td>\n",
       "      <td>https://store.musinsa.com/app/goods/855195</td>\n",
       "      <td>43,000</td>\n",
       "      <td>40,850</td>\n",
       "      <td>원버튼 더블 피케 티_블랙</td>\n",
       "    </tr>\n",
       "    <tr>\n",
       "      <th>4</th>\n",
       "      <td>ROMANTIC CROWN</td>\n",
       "      <td>https://image.msscdn.net/images/goods_img/2021...</td>\n",
       "      <td>NaN</td>\n",
       "      <td>https://store.musinsa.com/app/goods/1793078</td>\n",
       "      <td>78,000</td>\n",
       "      <td>70,200</td>\n",
       "      <td>콘트라스트 니트 폴로_그린</td>\n",
       "    </tr>\n",
       "    <tr>\n",
       "      <th>5</th>\n",
       "      <td>ROMANTIC CROWN</td>\n",
       "      <td>https://image.msscdn.net/images/goods_img/2021...</td>\n",
       "      <td>NaN</td>\n",
       "      <td>https://store.musinsa.com/app/goods/1793070</td>\n",
       "      <td>68,000</td>\n",
       "      <td>61,200</td>\n",
       "      <td>클래식 체크 피케 셔츠_오트밀</td>\n",
       "    </tr>\n",
       "    <tr>\n",
       "      <th>6</th>\n",
       "      <td>ROMANTIC CROWN</td>\n",
       "      <td>https://image.msscdn.net/images/goods_img/2021...</td>\n",
       "      <td>NaN</td>\n",
       "      <td>https://store.musinsa.com/app/goods/1793079</td>\n",
       "      <td>78,000</td>\n",
       "      <td>70,200</td>\n",
       "      <td>콘트라스트 니트 폴로_베이지</td>\n",
       "    </tr>\n",
       "    <tr>\n",
       "      <th>7</th>\n",
       "      <td>SUARE</td>\n",
       "      <td>https://image.msscdn.net/images/goods_img/2021...</td>\n",
       "      <td>NaN</td>\n",
       "      <td>https://store.musinsa.com/app/goods/1809949</td>\n",
       "      <td>104,000</td>\n",
       "      <td>78,000</td>\n",
       "      <td>린넨 카라 니트 세트</td>\n",
       "    </tr>\n",
       "    <tr>\n",
       "      <th>8</th>\n",
       "      <td>RENOMA GOLF</td>\n",
       "      <td>https://image.msscdn.net/images/goods_img/2021...</td>\n",
       "      <td>NaN</td>\n",
       "      <td>https://store.musinsa.com/app/goods/1809020</td>\n",
       "      <td>169,000</td>\n",
       "      <td>169,000</td>\n",
       "      <td>21SS 남성 소재 믹스 배색 카라 티셔츠 RMTYK1105-199_G</td>\n",
       "    </tr>\n",
       "    <tr>\n",
       "      <th>9</th>\n",
       "      <td>RENOMA GOLF</td>\n",
       "      <td>https://image.msscdn.net/images/goods_img/2021...</td>\n",
       "      <td>NaN</td>\n",
       "      <td>https://store.musinsa.com/app/goods/1808993</td>\n",
       "      <td>179,000</td>\n",
       "      <td>179,000</td>\n",
       "      <td>21SS 여성 사선 지퍼 카라 배색 티셔츠 RWTHK5154-199_G</td>\n",
       "    </tr>\n",
       "  </tbody>\n",
       "</table>\n",
       "</div>"
      ],
      "text/plain": [
       "            brand                                           img_link  \\\n",
       "0  ROMANTIC CROWN  https://image.msscdn.net/images/goods_img/2021...   \n",
       "1  ROMANTIC CROWN  https://image.msscdn.net/images/goods_img/2021...   \n",
       "2  ROMANTIC CROWN  https://image.msscdn.net/images/goods_img/2021...   \n",
       "3      BLANK ROOM  https://image.msscdn.net/images/goods_img/2018...   \n",
       "4  ROMANTIC CROWN  https://image.msscdn.net/images/goods_img/2021...   \n",
       "5  ROMANTIC CROWN  https://image.msscdn.net/images/goods_img/2021...   \n",
       "6  ROMANTIC CROWN  https://image.msscdn.net/images/goods_img/2021...   \n",
       "7           SUARE  https://image.msscdn.net/images/goods_img/2021...   \n",
       "8     RENOMA GOLF  https://image.msscdn.net/images/goods_img/2021...   \n",
       "9     RENOMA GOLF  https://image.msscdn.net/images/goods_img/2021...   \n",
       "\n",
       "                                 kw  \\\n",
       "0                               NaN   \n",
       "1                               NaN   \n",
       "2                               NaN   \n",
       "3  #긴팔,#긴팔티,#미니멀,#셔츠,#원버튼,#카라티,#티셔츠   \n",
       "4                               NaN   \n",
       "5                               NaN   \n",
       "6                               NaN   \n",
       "7                               NaN   \n",
       "8                               NaN   \n",
       "9                               NaN   \n",
       "\n",
       "                                          link  o_price  s_price  \\\n",
       "0  https://store.musinsa.com/app/goods/1793069   68,000   61,200   \n",
       "1  https://store.musinsa.com/app/goods/1793083   82,000   73,800   \n",
       "2  https://store.musinsa.com/app/goods/1793082   82,000   73,800   \n",
       "3   https://store.musinsa.com/app/goods/855195   43,000   40,850   \n",
       "4  https://store.musinsa.com/app/goods/1793078   78,000   70,200   \n",
       "5  https://store.musinsa.com/app/goods/1793070   68,000   61,200   \n",
       "6  https://store.musinsa.com/app/goods/1793079   78,000   70,200   \n",
       "7  https://store.musinsa.com/app/goods/1809949  104,000   78,000   \n",
       "8  https://store.musinsa.com/app/goods/1809020  169,000  169,000   \n",
       "9  https://store.musinsa.com/app/goods/1808993  179,000  179,000   \n",
       "\n",
       "                                     title  \n",
       "0                         클래식 체크 피케 셔츠_네이비  \n",
       "1                              숄 카라 니트_오트밀  \n",
       "2                              숄 카라 니트_네이비  \n",
       "3                           원버튼 더블 피케 티_블랙  \n",
       "4                           콘트라스트 니트 폴로_그린  \n",
       "5                         클래식 체크 피케 셔츠_오트밀  \n",
       "6                          콘트라스트 니트 폴로_베이지  \n",
       "7                              린넨 카라 니트 세트  \n",
       "8  21SS 남성 소재 믹스 배색 카라 티셔츠 RMTYK1105-199_G  \n",
       "9  21SS 여성 사선 지퍼 카라 배색 티셔츠 RWTHK5154-199_G  "
      ]
     },
     "execution_count": 40,
     "metadata": {},
     "output_type": "execute_result"
    }
   ],
   "source": [
    "pd.read_csv('musinsa/top.csv').head(10)"
   ]
  },
  {
   "cell_type": "code",
   "execution_count": null,
   "metadata": {},
   "outputs": [],
   "source": []
  },
  {
   "cell_type": "code",
   "execution_count": null,
   "metadata": {},
   "outputs": [],
   "source": []
  },
  {
   "cell_type": "code",
   "execution_count": null,
   "metadata": {},
   "outputs": [],
   "source": []
  },
  {
   "cell_type": "code",
   "execution_count": null,
   "metadata": {},
   "outputs": [],
   "source": []
  },
  {
   "cell_type": "markdown",
   "metadata": {},
   "source": [
    "## 이미지 저장"
   ]
  },
  {
   "cell_type": "code",
   "execution_count": 39,
   "metadata": {
    "scrolled": false
   },
   "outputs": [
    {
     "data": {
      "text/plain": [
       "0    https://image.msscdn.net/images/goods_img/2021...\n",
       "1    https://image.msscdn.net/images/goods_img/2021...\n",
       "2    https://image.msscdn.net/images/goods_img/2021...\n",
       "3    https://image.msscdn.net/images/goods_img/2021...\n",
       "4    https://image.msscdn.net/images/goods_img/2021...\n",
       "5    https://image.msscdn.net/images/goods_img/2021...\n",
       "6    https://image.msscdn.net/images/goods_img/2021...\n",
       "7    https://image.msscdn.net/images/goods_img/2018...\n",
       "8    https://image.msscdn.net/images/goods_img/2021...\n",
       "9    https://image.msscdn.net/images/goods_img/2021...\n",
       "Name: img, dtype: object"
      ]
     },
     "execution_count": 39,
     "metadata": {},
     "output_type": "execute_result"
    }
   ],
   "source": [
    "test['img'].head(10)"
   ]
  },
  {
   "cell_type": "code",
   "execution_count": 210,
   "metadata": {},
   "outputs": [
    {
     "data": {
      "text/plain": [
       "'https://image.msscdn.net/images/goods_img/20210215/1793069/1793069_2_500.jpg'"
      ]
     },
     "execution_count": 210,
     "metadata": {},
     "output_type": "execute_result"
    }
   ],
   "source": [
    "test['img'][0]"
   ]
  },
  {
   "cell_type": "code",
   "execution_count": 64,
   "metadata": {},
   "outputs": [
    {
     "data": {
      "text/plain": [
       "'1793069'"
      ]
     },
     "execution_count": 64,
     "metadata": {},
     "output_type": "execute_result"
    }
   ],
   "source": [
    "test['link'][0].split('/')[5]"
   ]
  },
  {
   "cell_type": "code",
   "execution_count": 78,
   "metadata": {},
   "outputs": [],
   "source": [
    "import os"
   ]
  },
  {
   "cell_type": "code",
   "execution_count": 79,
   "metadata": {},
   "outputs": [],
   "source": [
    "if not os.path.exists(\"datas\"):\n",
    "    os.makedirs(\"datas\")"
   ]
  },
  {
   "cell_type": "code",
   "execution_count": 80,
   "metadata": {},
   "outputs": [
    {
     "name": "stdout",
     "output_type": "stream",
     "text": [
      "\u001b[0m\u001b[01;34mdatas\u001b[0m/  \u001b[01;34mmusinsa\u001b[0m/  musinsa_0223.ipynb  run.sh\r\n"
     ]
    }
   ],
   "source": [
    "%ls"
   ]
  },
  {
   "cell_type": "code",
   "execution_count": 81,
   "metadata": {},
   "outputs": [],
   "source": [
    "def save_file(title, link):\n",
    "    response = requests.get(link)\n",
    "    with open(\"datas/{}.png\".format(title), \"wb\") as f:\n",
    "        f.write(response.content)"
   ]
  },
  {
   "cell_type": "code",
   "execution_count": 82,
   "metadata": {},
   "outputs": [
    {
     "name": "stdout",
     "output_type": "stream",
     "text": [
      "0 1 2 3 4 5 6 7 8 9 10 11 12 13 14 15 16 17 18 19 20 21 22 23 24 25 26 27 28 29 30 31 32 33 34 35 36 37 38 39 40 41 42 43 44 45 46 47 48 49 50 51 52 53 54 55 56 57 58 59 60 61 62 63 64 65 66 67 68 69 70 71 72 73 74 75 76 77 78 79 80 81 82 83 84 85 86 87 88 89 "
     ]
    }
   ],
   "source": [
    "for idx, data in test.iterrows():\n",
    "    print(idx, end=\" \")\n",
    "    link = test['img'][idx]\n",
    "    save_file(test['link'][idx].split('/')[5], link)"
   ]
  },
  {
   "cell_type": "code",
   "execution_count": 83,
   "metadata": {},
   "outputs": [],
   "source": [
    "img_datas = !ls datas"
   ]
  },
  {
   "cell_type": "code",
   "execution_count": 84,
   "metadata": {},
   "outputs": [
    {
     "data": {
      "text/plain": [
       "['1020313.png', '1031256.png']"
      ]
     },
     "execution_count": 84,
     "metadata": {},
     "output_type": "execute_result"
    }
   ],
   "source": [
    "img_datas[:2]"
   ]
  },
  {
   "cell_type": "code",
   "execution_count": 85,
   "metadata": {},
   "outputs": [],
   "source": [
    "# pillow로 이미지 출력"
   ]
  },
  {
   "cell_type": "code",
   "execution_count": 86,
   "metadata": {},
   "outputs": [],
   "source": [
    "from PIL import Image as pil"
   ]
  },
  {
   "cell_type": "code",
   "execution_count": 96,
   "metadata": {},
   "outputs": [
    {
     "data": {
      "text/plain": [
       "'1793667.png'"
      ]
     },
     "execution_count": 96,
     "metadata": {},
     "output_type": "execute_result"
    }
   ],
   "source": [
    "img_datas[34]"
   ]
  },
  {
   "cell_type": "code",
   "execution_count": 107,
   "metadata": {},
   "outputs": [],
   "source": [
    "img_obj = pil.open(\"datas/{}\".format(img_datas[11]))"
   ]
  },
  {
   "cell_type": "code",
   "execution_count": 108,
   "metadata": {},
   "outputs": [
    {
     "data": {
      "image/png": "[encoded data removed]",
      "text/plain": [
       "<PIL.JpegImagePlugin.JpegImageFile image mode=RGB size=500x600 at 0x7FC908820588>"
      ]
     },
     "execution_count": 108,
     "metadata": {},
     "output_type": "execute_result"
    }
   ],
   "source": [
    "img_obj"
   ]
  },
  {
   "cell_type": "code",
   "execution_count": null,
   "metadata": {},
   "outputs": [],
   "source": []
  },
  {
   "cell_type": "code",
   "execution_count": null,
   "metadata": {},
   "outputs": [],
   "source": []
  },
  {
   "cell_type": "code",
   "execution_count": null,
   "metadata": {},
   "outputs": [],
   "source": []
  }
 ],
 "metadata": {
  "kernelspec": {
   "display_name": "Python 3",
   "language": "python",
   "name": "python3"
  },
  "language_info": {
   "codemirror_mode": {
    "name": "ipython",
    "version": 3
   },
   "file_extension": ".py",
   "mimetype": "text/x-python",
   "name": "python",
   "nbconvert_exporter": "python",
   "pygments_lexer": "ipython3",
   "version": "3.6.9"
  }
 },
 "nbformat": 4,
 "nbformat_minor": 4
}
