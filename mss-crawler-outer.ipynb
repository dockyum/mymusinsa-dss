{
 "cells": [
  {
   "cell_type": "code",
   "execution_count": 4,
   "id": "balanced-lender",
   "metadata": {},
   "outputs": [],
   "source": [
    "import scrapy, requests\n",
    "from scrapy.http import TextResponse\n",
    "from fake_useragent import UserAgent"
   ]
  },
  {
   "cell_type": "code",
   "execution_count": 3,
   "id": "cognitive-royalty",
   "metadata": {
    "collapsed": true
   },
   "outputs": [
    {
     "name": "stdout",
     "output_type": "stream",
     "text": [
      "Requirement already satisfied: fake_useragent in /home/ubuntu/.pyenv/versions/3.8.5/envs/python3/lib/python3.8/site-packages (0.1.11)\n",
      "Collecting scrapy-fake-useragent\n",
      "  Downloading scrapy_fake_useragent-1.4.4-py2.py3-none-any.whl (6.8 kB)\n",
      "Collecting faker\n",
      "  Downloading Faker-6.4.1-py3-none-any.whl (1.1 MB)\n",
      "\u001b[K     |████████████████████████████████| 1.1 MB 1.6 MB/s eta 0:00:01     |███████████████████▎            | 675 kB 1.6 MB/s eta 0:00:01\n",
      "\u001b[?25hCollecting text-unidecode==1.3\n",
      "  Downloading text_unidecode-1.3-py2.py3-none-any.whl (78 kB)\n",
      "\u001b[K     |████████████████████████████████| 78 kB 3.9 MB/s eta 0:00:01\n",
      "\u001b[?25hRequirement already satisfied: python-dateutil>=2.4 in /home/ubuntu/.pyenv/versions/3.8.5/envs/python3/lib/python3.8/site-packages (from faker->scrapy-fake-useragent) (2.8.1)\n",
      "Requirement already satisfied: six>=1.5 in /home/ubuntu/.pyenv/versions/3.8.5/envs/python3/lib/python3.8/site-packages (from python-dateutil>=2.4->faker->scrapy-fake-useragent) (1.15.0)\n",
      "Installing collected packages: text-unidecode, faker, scrapy-fake-useragent\n",
      "Successfully installed faker-6.4.1 scrapy-fake-useragent-1.4.4 text-unidecode-1.3\n"
     ]
    }
   ],
   "source": [
    "!pip install fake_useragent scrapy-fake-useragent"
   ]
  },
  {
   "cell_type": "markdown",
   "id": "honey-tumor",
   "metadata": {},
   "source": [
    "## 1. 프로젝트 생성"
   ]
  },
  {
   "cell_type": "code",
   "execution_count": 5,
   "id": "honest-degree",
   "metadata": {},
   "outputs": [
    {
     "name": "stdout",
     "output_type": "stream",
     "text": [
      "New Scrapy project 'musinsa', using template directory '/home/ubuntu/.pyenv/versions/3.8.5/envs/python3/lib/python3.8/site-packages/scrapy/templates/project', created in:\r\n",
      "    /home/ubuntu/crawling-repo-3/musinsa\r\n",
      "\r\n",
      "You can start your first spider with:\r\n",
      "    cd musinsa\r\n",
      "    scrapy genspider example example.com\r\n"
     ]
    }
   ],
   "source": [
    "!scrapy startproject musinsa"
   ]
  },
  {
   "cell_type": "markdown",
   "id": "selective-butter",
   "metadata": {},
   "source": [
    "## xpath 확인"
   ]
  },
  {
   "cell_type": "code",
   "execution_count": 10,
   "id": "tough-selection",
   "metadata": {},
   "outputs": [
    {
     "data": {
      "text/plain": [
       "<200 https://search.musinsa.com/category/002>"
      ]
     },
     "execution_count": 10,
     "metadata": {},
     "output_type": "execute_result"
    }
   ],
   "source": [
    "# category links\n",
    "headers = {\"user-agent\": UserAgent().chrome}\n",
    "\n",
    "category_nm = '002'\n",
    "main_url = \"https://search.musinsa.com/category/\"\n",
    "\n",
    "req = requests.get(main_url+category_nm, headers=headers)\n",
    "response = TextResponse(req.url, body=req.text, encoding='UTF-8')\n",
    "response"
   ]
  },
  {
   "cell_type": "code",
   "execution_count": 26,
   "id": "moderate-oregon",
   "metadata": {},
   "outputs": [
    {
     "data": {
      "text/plain": [
       "20"
      ]
     },
     "execution_count": 26,
     "metadata": {},
     "output_type": "execute_result"
    }
   ],
   "source": [
    "midsec_code = response.xpath('//*[@id=\"category_list\"]/dl/dd/ul/li/a/@data-code').extract()\n",
    "ctgr_links = list(map(response.urljoin, midsec_code))\n",
    "len(ctgr_links)\n",
    "# links = main_url + response.xpath('//*[@id=\"category_list\"]/dl/dd/ul/li[1]/a/@data-code').extract()[0]\n",
    "# links\n",
    "# len(links), links[41]"
   ]
  },
  {
   "cell_type": "code",
   "execution_count": 27,
   "id": "commercial-ordering",
   "metadata": {},
   "outputs": [
    {
     "data": {
      "text/plain": [
       "<200 https://search.musinsa.com/category/002022>"
      ]
     },
     "execution_count": 27,
     "metadata": {},
     "output_type": "execute_result"
    }
   ],
   "source": [
    "# item links\n",
    "mid_category = ctgr_links[0]\n",
    "req = requests.get(mid_category, headers=headers)\n",
    "response = TextResponse(req.url, body=req.text, encoding='UTF-8')\n",
    "response"
   ]
  },
  {
   "cell_type": "code",
   "execution_count": 34,
   "id": "restricted-payroll",
   "metadata": {},
   "outputs": [
    {
     "data": {
      "text/plain": [
       "90"
      ]
     },
     "execution_count": 34,
     "metadata": {},
     "output_type": "execute_result"
    }
   ],
   "source": [
    "item_links = response.xpath('//*[@id=\"searchList\"]/li//*[@class=\"li_inner\"]/div[1]/a/@href').extract()\n",
    "len(item_links)"
   ]
  },
  {
   "cell_type": "code",
   "execution_count": 62,
   "id": "verbal-serbia",
   "metadata": {},
   "outputs": [
    {
     "data": {
      "text/plain": [
       "<200 https://store.musinsa.com/app/goods/1551961>"
      ]
     },
     "execution_count": 62,
     "metadata": {},
     "output_type": "execute_result"
    }
   ],
   "source": [
    "# item\n",
    "link = item_links[7]\n",
    "req = requests.get(link, headers=headers)\n",
    "response = TextResponse(req.url, body=req.text, encoding='UTF-8')\n",
    "response"
   ]
  },
  {
   "cell_type": "markdown",
   "id": "cosmetic-configuration",
   "metadata": {},
   "source": [
    "## selenium 사용"
   ]
  },
  {
   "cell_type": "code",
   "execution_count": 69,
   "id": "fitting-fancy",
   "metadata": {},
   "outputs": [],
   "source": [
    "from selenium import webdriver"
   ]
  },
  {
   "cell_type": "code",
   "execution_count": 76,
   "id": "aquatic-norfolk",
   "metadata": {},
   "outputs": [],
   "source": [
    "options = webdriver.ChromeOptions()\n",
    "options.add_argument(\"headless\")\n",
    "driver = webdriver.Chrome(options=options)"
   ]
  },
  {
   "cell_type": "code",
   "execution_count": 71,
   "id": "prostate-thing",
   "metadata": {},
   "outputs": [
    {
     "data": {
      "text/plain": [
       "'https://store.musinsa.com/app/goods/1551961'"
      ]
     },
     "execution_count": 71,
     "metadata": {},
     "output_type": "execute_result"
    }
   ],
   "source": [
    "req.url"
   ]
  },
  {
   "cell_type": "code",
   "execution_count": 77,
   "id": "bound-closure",
   "metadata": {},
   "outputs": [],
   "source": [
    "driver.get(req.url)"
   ]
  },
  {
   "cell_type": "code",
   "execution_count": 78,
   "id": "divided-friend",
   "metadata": {},
   "outputs": [
    {
     "data": {
      "text/plain": [
       "<selenium.webdriver.remote.webelement.WebElement (session=\"0ad704b6af32d23e5ce08b1966fdaf04\", element=\"559c7e3e-f19d-4471-b3e1-8d07a2341460\")>"
      ]
     },
     "execution_count": 78,
     "metadata": {},
     "output_type": "execute_result"
    }
   ],
   "source": [
    "elements = driver.find_element_by_xpath('//*[@id=\"graph_summary_area\"]/strong[1]/em')\n",
    "elements"
   ]
  },
  {
   "cell_type": "code",
   "execution_count": 80,
   "id": "efficient-purchase",
   "metadata": {},
   "outputs": [
    {
     "data": {
      "text/plain": [
       "'19~23'"
      ]
     },
     "execution_count": 80,
     "metadata": {},
     "output_type": "execute_result"
    }
   ],
   "source": [
    "elements.text"
   ]
  },
  {
   "cell_type": "code",
   "execution_count": 83,
   "id": "different-excitement",
   "metadata": {},
   "outputs": [
    {
     "ename": "NoSuchElementException",
     "evalue": "Message: no such element: Unable to locate element: {\"method\":\"xpath\",\"selector\":\"//*[@id=\"option2\"]/option[not(@value=\"\")]/@value\"}\n  (Session info: headless chrome=87.0.4280.66)\n",
     "output_type": "error",
     "traceback": [
      "\u001b[0;31m---------------------------------------------------------------------------\u001b[0m",
      "\u001b[0;31mNoSuchElementException\u001b[0m                    Traceback (most recent call last)",
      "\u001b[0;32m<ipython-input-83-3689e7333406>\u001b[0m in \u001b[0;36m<module>\u001b[0;34m\u001b[0m\n\u001b[0;32m----> 1\u001b[0;31m \u001b[0moptions2\u001b[0m \u001b[0;34m=\u001b[0m \u001b[0mdriver\u001b[0m\u001b[0;34m.\u001b[0m\u001b[0mfind_element_by_xpath\u001b[0m\u001b[0;34m(\u001b[0m\u001b[0;34m'//*[@id=\"option2\"]/option[not(@value=\"\")]/@value'\u001b[0m\u001b[0;34m)\u001b[0m\u001b[0;34m\u001b[0m\u001b[0;34m\u001b[0m\u001b[0m\n\u001b[0m\u001b[1;32m      2\u001b[0m \u001b[0moptions2\u001b[0m\u001b[0;34m\u001b[0m\u001b[0;34m\u001b[0m\u001b[0m\n",
      "\u001b[0;32m~/.pyenv/versions/3.8.5/envs/python3/lib/python3.8/site-packages/selenium/webdriver/remote/webdriver.py\u001b[0m in \u001b[0;36mfind_element_by_xpath\u001b[0;34m(self, xpath)\u001b[0m\n\u001b[1;32m    392\u001b[0m             \u001b[0melement\u001b[0m \u001b[0;34m=\u001b[0m \u001b[0mdriver\u001b[0m\u001b[0;34m.\u001b[0m\u001b[0mfind_element_by_xpath\u001b[0m\u001b[0;34m(\u001b[0m\u001b[0;34m'//div/td[1]'\u001b[0m\u001b[0;34m)\u001b[0m\u001b[0;34m\u001b[0m\u001b[0;34m\u001b[0m\u001b[0m\n\u001b[1;32m    393\u001b[0m         \"\"\"\n\u001b[0;32m--> 394\u001b[0;31m         \u001b[0;32mreturn\u001b[0m \u001b[0mself\u001b[0m\u001b[0;34m.\u001b[0m\u001b[0mfind_element\u001b[0m\u001b[0;34m(\u001b[0m\u001b[0mby\u001b[0m\u001b[0;34m=\u001b[0m\u001b[0mBy\u001b[0m\u001b[0;34m.\u001b[0m\u001b[0mXPATH\u001b[0m\u001b[0;34m,\u001b[0m \u001b[0mvalue\u001b[0m\u001b[0;34m=\u001b[0m\u001b[0mxpath\u001b[0m\u001b[0;34m)\u001b[0m\u001b[0;34m\u001b[0m\u001b[0;34m\u001b[0m\u001b[0m\n\u001b[0m\u001b[1;32m    395\u001b[0m \u001b[0;34m\u001b[0m\u001b[0m\n\u001b[1;32m    396\u001b[0m     \u001b[0;32mdef\u001b[0m \u001b[0mfind_elements_by_xpath\u001b[0m\u001b[0;34m(\u001b[0m\u001b[0mself\u001b[0m\u001b[0;34m,\u001b[0m \u001b[0mxpath\u001b[0m\u001b[0;34m)\u001b[0m\u001b[0;34m:\u001b[0m\u001b[0;34m\u001b[0m\u001b[0;34m\u001b[0m\u001b[0m\n",
      "\u001b[0;32m~/.pyenv/versions/3.8.5/envs/python3/lib/python3.8/site-packages/selenium/webdriver/remote/webdriver.py\u001b[0m in \u001b[0;36mfind_element\u001b[0;34m(self, by, value)\u001b[0m\n\u001b[1;32m    974\u001b[0m                 \u001b[0mby\u001b[0m \u001b[0;34m=\u001b[0m \u001b[0mBy\u001b[0m\u001b[0;34m.\u001b[0m\u001b[0mCSS_SELECTOR\u001b[0m\u001b[0;34m\u001b[0m\u001b[0;34m\u001b[0m\u001b[0m\n\u001b[1;32m    975\u001b[0m                 \u001b[0mvalue\u001b[0m \u001b[0;34m=\u001b[0m \u001b[0;34m'[name=\"%s\"]'\u001b[0m \u001b[0;34m%\u001b[0m \u001b[0mvalue\u001b[0m\u001b[0;34m\u001b[0m\u001b[0;34m\u001b[0m\u001b[0m\n\u001b[0;32m--> 976\u001b[0;31m         return self.execute(Command.FIND_ELEMENT, {\n\u001b[0m\u001b[1;32m    977\u001b[0m             \u001b[0;34m'using'\u001b[0m\u001b[0;34m:\u001b[0m \u001b[0mby\u001b[0m\u001b[0;34m,\u001b[0m\u001b[0;34m\u001b[0m\u001b[0;34m\u001b[0m\u001b[0m\n\u001b[1;32m    978\u001b[0m             'value': value})['value']\n",
      "\u001b[0;32m~/.pyenv/versions/3.8.5/envs/python3/lib/python3.8/site-packages/selenium/webdriver/remote/webdriver.py\u001b[0m in \u001b[0;36mexecute\u001b[0;34m(self, driver_command, params)\u001b[0m\n\u001b[1;32m    319\u001b[0m         \u001b[0mresponse\u001b[0m \u001b[0;34m=\u001b[0m \u001b[0mself\u001b[0m\u001b[0;34m.\u001b[0m\u001b[0mcommand_executor\u001b[0m\u001b[0;34m.\u001b[0m\u001b[0mexecute\u001b[0m\u001b[0;34m(\u001b[0m\u001b[0mdriver_command\u001b[0m\u001b[0;34m,\u001b[0m \u001b[0mparams\u001b[0m\u001b[0;34m)\u001b[0m\u001b[0;34m\u001b[0m\u001b[0;34m\u001b[0m\u001b[0m\n\u001b[1;32m    320\u001b[0m         \u001b[0;32mif\u001b[0m \u001b[0mresponse\u001b[0m\u001b[0;34m:\u001b[0m\u001b[0;34m\u001b[0m\u001b[0;34m\u001b[0m\u001b[0m\n\u001b[0;32m--> 321\u001b[0;31m             \u001b[0mself\u001b[0m\u001b[0;34m.\u001b[0m\u001b[0merror_handler\u001b[0m\u001b[0;34m.\u001b[0m\u001b[0mcheck_response\u001b[0m\u001b[0;34m(\u001b[0m\u001b[0mresponse\u001b[0m\u001b[0;34m)\u001b[0m\u001b[0;34m\u001b[0m\u001b[0;34m\u001b[0m\u001b[0m\n\u001b[0m\u001b[1;32m    322\u001b[0m             response['value'] = self._unwrap_value(\n\u001b[1;32m    323\u001b[0m                 response.get('value', None))\n",
      "\u001b[0;32m~/.pyenv/versions/3.8.5/envs/python3/lib/python3.8/site-packages/selenium/webdriver/remote/errorhandler.py\u001b[0m in \u001b[0;36mcheck_response\u001b[0;34m(self, response)\u001b[0m\n\u001b[1;32m    240\u001b[0m                 \u001b[0malert_text\u001b[0m \u001b[0;34m=\u001b[0m \u001b[0mvalue\u001b[0m\u001b[0;34m[\u001b[0m\u001b[0;34m'alert'\u001b[0m\u001b[0;34m]\u001b[0m\u001b[0;34m.\u001b[0m\u001b[0mget\u001b[0m\u001b[0;34m(\u001b[0m\u001b[0;34m'text'\u001b[0m\u001b[0;34m)\u001b[0m\u001b[0;34m\u001b[0m\u001b[0;34m\u001b[0m\u001b[0m\n\u001b[1;32m    241\u001b[0m             \u001b[0;32mraise\u001b[0m \u001b[0mexception_class\u001b[0m\u001b[0;34m(\u001b[0m\u001b[0mmessage\u001b[0m\u001b[0;34m,\u001b[0m \u001b[0mscreen\u001b[0m\u001b[0;34m,\u001b[0m \u001b[0mstacktrace\u001b[0m\u001b[0;34m,\u001b[0m \u001b[0malert_text\u001b[0m\u001b[0;34m)\u001b[0m\u001b[0;34m\u001b[0m\u001b[0;34m\u001b[0m\u001b[0m\n\u001b[0;32m--> 242\u001b[0;31m         \u001b[0;32mraise\u001b[0m \u001b[0mexception_class\u001b[0m\u001b[0;34m(\u001b[0m\u001b[0mmessage\u001b[0m\u001b[0;34m,\u001b[0m \u001b[0mscreen\u001b[0m\u001b[0;34m,\u001b[0m \u001b[0mstacktrace\u001b[0m\u001b[0;34m)\u001b[0m\u001b[0;34m\u001b[0m\u001b[0;34m\u001b[0m\u001b[0m\n\u001b[0m\u001b[1;32m    243\u001b[0m \u001b[0;34m\u001b[0m\u001b[0m\n\u001b[1;32m    244\u001b[0m     \u001b[0;32mdef\u001b[0m \u001b[0m_value_or_default\u001b[0m\u001b[0;34m(\u001b[0m\u001b[0mself\u001b[0m\u001b[0;34m,\u001b[0m \u001b[0mobj\u001b[0m\u001b[0;34m,\u001b[0m \u001b[0mkey\u001b[0m\u001b[0;34m,\u001b[0m \u001b[0mdefault\u001b[0m\u001b[0;34m)\u001b[0m\u001b[0;34m:\u001b[0m\u001b[0;34m\u001b[0m\u001b[0;34m\u001b[0m\u001b[0m\n",
      "\u001b[0;31mNoSuchElementException\u001b[0m: Message: no such element: Unable to locate element: {\"method\":\"xpath\",\"selector\":\"//*[@id=\"option2\"]/option[not(@value=\"\")]/@value\"}\n  (Session info: headless chrome=87.0.4280.66)\n"
     ]
    }
   ],
   "source": [
    "options2 = driver.find_element_by_xpath('//*[@id=\"option2\"]/option[not(@value=\"\")]/@value')\n",
    "options2"
   ]
  },
  {
   "cell_type": "code",
   "execution_count": null,
   "id": "proper-moldova",
   "metadata": {},
   "outputs": [],
   "source": [
    "'//*[@id=\"graph_summary_area\"]/strong[1]/em'"
   ]
  },
  {
   "cell_type": "code",
   "execution_count": 73,
   "id": "governing-therapist",
   "metadata": {},
   "outputs": [],
   "source": [
    "driver.close()"
   ]
  },
  {
   "cell_type": "code",
   "execution_count": 81,
   "id": "terminal-savage",
   "metadata": {},
   "outputs": [
    {
     "data": {
      "text/plain": [
       "('',\n",
       " ['블랙', '아이보리', '블루', '퍼플', '러스트', '올리브', '민트', '차콜', '멜란지 그레이'],\n",
       " [],\n",
       " ['블랙 / S|0|194038|Y|143',\n",
       "  '블랙 / M|0|194039|Y|156',\n",
       "  '블랙 / L|0|194040|Y|228',\n",
       "  '블랙 / XL|0|194041|Y|140',\n",
       "  '아이보리 / S|0|194042|Y|3',\n",
       "  '아이보리 / M|0|194043|Y|35',\n",
       "  '아이보리 / L|0|194044|Y|97',\n",
       "  '아이보리 / XL|0|194045|Y|0',\n",
       "  '블루 / S|0|194046|Y|28',\n",
       "  '블루 / M|0|194047|Y|71',\n",
       "  '블루 / L|0|194048|Y|60',\n",
       "  '블루 / XL|0|194049|Y|29',\n",
       "  '퍼플 / S|0|194050|Y|28',\n",
       "  '퍼플 / M|0|194051|Y|27',\n",
       "  '퍼플 / L|0|194052|Y|12',\n",
       "  '퍼플 / XL|0|194053|Y|23',\n",
       "  '러스트 / S|0|194054|Y|3',\n",
       "  '러스트 / M|0|194055|Y|24',\n",
       "  '러스트 / L|0|194056|Y|28',\n",
       "  '러스트 / XL|0|194057|Y|0',\n",
       "  '올리브 / S|0|194058|Y|15',\n",
       "  '올리브 / M|0|194059|Y|29',\n",
       "  '올리브 / L|0|194060|Y|31',\n",
       "  '올리브 / XL|0|194061|Y|23',\n",
       "  '민트 / S|0|194062|Y|0',\n",
       "  '민트 / M|0|194063|Y|5',\n",
       "  '민트 / L|0|194064|Y|14',\n",
       "  '민트 / XL|0|194065|Y|2',\n",
       "  '차콜 / S|0|194066|Y|48',\n",
       "  '차콜 / M|0|194067|Y|64',\n",
       "  '차콜 / L|0|194068|Y|73',\n",
       "  '차콜 / XL|0|194069|Y|25',\n",
       "  '멜란지 그레이 / S|0|194070|Y|33',\n",
       "  '멜란지 그레이 / M|0|194071|Y|25',\n",
       "  '멜란지 그레이 / L|0|194072|Y|0',\n",
       "  '멜란지 그레이 / XL|0|194073|Y|0'])"
      ]
     },
     "execution_count": 81,
     "metadata": {},
     "output_type": "execute_result"
    }
   ],
   "source": [
    "title = \"\"\n",
    "options1 = response.xpath('//*[@id=\"option1\"]/option[not(@value=\"\")]/@value').extract()\n",
    "options2 = response.xpath('//*[@id=\"option2\"]/option[not(@value=\"\")]/@value').extract()\n",
    "options3 = response.xpath('//*[@id=\"addopt1\"]/option[not(@value=\"\")]/@value').extract()\n",
    "# addopt1\n",
    "title, options1, options2, options3"
   ]
  },
  {
   "cell_type": "code",
   "execution_count": null,
   "id": "adapted-financing",
   "metadata": {},
   "outputs": [],
   "source": []
  }
 ],
 "metadata": {
  "kernelspec": {
   "display_name": "Python 3",
   "language": "python",
   "name": "python3"
  },
  "language_info": {
   "codemirror_mode": {
    "name": "ipython",
    "version": 3
   },
   "file_extension": ".py",
   "mimetype": "text/x-python",
   "name": "python",
   "nbconvert_exporter": "python",
   "pygments_lexer": "ipython3",
   "version": "3.8.5"
  }
 },
 "nbformat": 4,
 "nbformat_minor": 5
}
